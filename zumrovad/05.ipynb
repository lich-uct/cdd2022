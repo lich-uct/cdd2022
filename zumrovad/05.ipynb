{
 "cells": [
  {
   "cell_type": "code",
   "execution_count": 23,
   "id": "fccd0fef",
   "metadata": {},
   "outputs": [],
   "source": [
    "import numpy as np\n",
    "import pandas as pd\n",
    "import seaborn as sns\n",
    "from rdkit.Chem import Draw\n",
    "from rdkit import DataStructs\n",
    "from rdkit.Chem import AllChem as Chem"
   ]
  },
  {
   "cell_type": "markdown",
   "id": "55caea95",
   "metadata": {},
   "source": [
    "# SMARTS"
   ]
  },
  {
   "cell_type": "code",
   "execution_count": 24,
   "id": "dc303b4f",
   "metadata": {},
   "outputs": [
    {
     "data": {
      "text/html": [
       "<div>\n",
       "<style scoped>\n",
       "    .dataframe tbody tr th:only-of-type {\n",
       "        vertical-align: middle;\n",
       "    }\n",
       "\n",
       "    .dataframe tbody tr th {\n",
       "        vertical-align: top;\n",
       "    }\n",
       "\n",
       "    .dataframe thead th {\n",
       "        text-align: right;\n",
       "    }\n",
       "</style>\n",
       "<table border=\"1\" class=\"dataframe\">\n",
       "  <thead>\n",
       "    <tr style=\"text-align: right;\">\n",
       "      <th></th>\n",
       "      <th>cmpd_chembl_id</th>\n",
       "      <th>canonical_smiles</th>\n",
       "      <th>value</th>\n",
       "      <th>mol</th>\n",
       "    </tr>\n",
       "  </thead>\n",
       "  <tbody>\n",
       "    <tr>\n",
       "      <th>0</th>\n",
       "      <td>CHEMBL356626</td>\n",
       "      <td>CCCOCc1ccc2c(c1)c3c4CNC(=O)c4c5c(Cc6ccccc56)c3...</td>\n",
       "      <td>7.890</td>\n",
       "      <td>&lt;rdkit.Chem.rdchem.Mol object at 0x000001DFF5E...</td>\n",
       "    </tr>\n",
       "    <tr>\n",
       "      <th>1</th>\n",
       "      <td>CHEMBL171558</td>\n",
       "      <td>COc1cc2c(Nc3cccc4occc34)ncnc2cc1OCCCN5CCOCC5</td>\n",
       "      <td>6.600</td>\n",
       "      <td>&lt;rdkit.Chem.rdchem.Mol object at 0x000001DFFFF...</td>\n",
       "    </tr>\n",
       "    <tr>\n",
       "      <th>2</th>\n",
       "      <td>CHEMBL221053</td>\n",
       "      <td>CCc1cccc(NC(=O)Nc2ccc(cc2)c3cccc4[nH]nc(N)c34)c1</td>\n",
       "      <td>8.220</td>\n",
       "      <td>&lt;rdkit.Chem.rdchem.Mol object at 0x000001DFFFF...</td>\n",
       "    </tr>\n",
       "    <tr>\n",
       "      <th>3</th>\n",
       "      <td>CHEMBL3754450</td>\n",
       "      <td>COc1cccc(c1)C(=O)CN2CCN(CC2)c3nnc(c4ccccc4)c5c...</td>\n",
       "      <td>5.470</td>\n",
       "      <td>&lt;rdkit.Chem.rdchem.Mol object at 0x000001DF823...</td>\n",
       "    </tr>\n",
       "    <tr>\n",
       "      <th>4</th>\n",
       "      <td>CHEMBL383255</td>\n",
       "      <td>Cn1cnc(NCc2ccncc2)c1c3oc(Nc4ccc(OC(F)(F)F)cc4)nn3</td>\n",
       "      <td>7.105</td>\n",
       "      <td>&lt;rdkit.Chem.rdchem.Mol object at 0x000001DF823...</td>\n",
       "    </tr>\n",
       "  </tbody>\n",
       "</table>\n",
       "</div>"
      ],
      "text/plain": [
       "  cmpd_chembl_id                                   canonical_smiles  value  \\\n",
       "0   CHEMBL356626  CCCOCc1ccc2c(c1)c3c4CNC(=O)c4c5c(Cc6ccccc56)c3...  7.890   \n",
       "1   CHEMBL171558       COc1cc2c(Nc3cccc4occc34)ncnc2cc1OCCCN5CCOCC5  6.600   \n",
       "2   CHEMBL221053   CCc1cccc(NC(=O)Nc2ccc(cc2)c3cccc4[nH]nc(N)c34)c1  8.220   \n",
       "3  CHEMBL3754450  COc1cccc(c1)C(=O)CN2CCN(CC2)c3nnc(c4ccccc4)c5c...  5.470   \n",
       "4   CHEMBL383255  Cn1cnc(NCc2ccncc2)c1c3oc(Nc4ccc(OC(F)(F)F)cc4)nn3  7.105   \n",
       "\n",
       "                                                 mol  \n",
       "0  <rdkit.Chem.rdchem.Mol object at 0x000001DFF5E...  \n",
       "1  <rdkit.Chem.rdchem.Mol object at 0x000001DFFFF...  \n",
       "2  <rdkit.Chem.rdchem.Mol object at 0x000001DFFFF...  \n",
       "3  <rdkit.Chem.rdchem.Mol object at 0x000001DF823...  \n",
       "4  <rdkit.Chem.rdchem.Mol object at 0x000001DF823...  "
      ]
     },
     "execution_count": 24,
     "metadata": {},
     "output_type": "execute_result"
    }
   ],
   "source": [
    "df = pd.read_csv('VEGF2.csv')\n",
    "df = df.drop(['tid', 'standard_type', 'confidence_score', 'cmpd_pref_name', 'activity_comment'], axis=1)\n",
    "df['mol'] = [Chem.MolFromSmiles(i) for i in df['canonical_smiles']]\n",
    "df.head()"
   ]
  },
  {
   "cell_type": "code",
   "execution_count": 25,
   "id": "f371973a",
   "metadata": {},
   "outputs": [
    {
     "data": {
      "text/plain": [
       "6715"
      ]
     },
     "execution_count": 25,
     "metadata": {},
     "output_type": "execute_result"
    }
   ],
   "source": [
    "len(df.index)"
   ]
  },
  {
   "cell_type": "code",
   "execution_count": 26,
   "id": "475c6ec7",
   "metadata": {},
   "outputs": [],
   "source": [
    "s = Chem.MolFromSmarts('aa') # c1ccccc1c2ccccc2\n",
    "s2 = Chem.MolFromSmarts('aAa') # c1ccccc1/C\\c2ccccc2\n",
    "s3 = Chem.MolFromSmarts('aAAa') # c1ccccc1/C-C\\c2ccccc2"
   ]
  },
  {
   "cell_type": "code",
   "execution_count": 27,
   "id": "ceb77794",
   "metadata": {},
   "outputs": [],
   "source": [
    "struct = [mol.HasSubstructMatch(s) for mol in df['mol']]\n",
    "struct2 = [mol.HasSubstructMatch(s2) for mol in df['mol']]\n",
    "struct3 = [mol.HasSubstructMatch(s3) for mol in df['mol']]"
   ]
  },
  {
   "cell_type": "code",
   "execution_count": 28,
   "id": "11261b47",
   "metadata": {},
   "outputs": [],
   "source": [
    "#df[\"struct\"] = struct\n",
    "#df[\"struct\"].value_counts() "
   ]
  },
  {
   "cell_type": "code",
   "execution_count": 29,
   "id": "7e900154",
   "metadata": {},
   "outputs": [
    {
     "data": {
      "text/plain": [
       "(6711, 3940, 1565)"
      ]
     },
     "execution_count": 29,
     "metadata": {},
     "output_type": "execute_result"
    }
   ],
   "source": [
    "count = np.sum(struct)\n",
    "count2 = np.sum(struct2)\n",
    "count3 = np.sum(struct3)\n",
    "count, count2, count3"
   ]
  },
  {
   "cell_type": "markdown",
   "id": "b5d4b6dc",
   "metadata": {},
   "source": [
    "# Similarity search"
   ]
  },
  {
   "cell_type": "code",
   "execution_count": 30,
   "id": "dd90f589",
   "metadata": {},
   "outputs": [],
   "source": [
    "def similarity_search(df, f): \n",
    "    sim = [DataStructs.FingerprintSimilarity(x, f) for x in df.finger]\n",
    "    return sim"
   ]
  },
  {
   "cell_type": "code",
   "execution_count": 31,
   "id": "d1c2b8d0",
   "metadata": {},
   "outputs": [],
   "source": [
    "def similarity_search_treshold(df, f, treshold): \n",
    "    sim = similarity_search(df, f)\n",
    "    l = []\n",
    "    for s in sim:\n",
    "        if s > treshold:\n",
    "            l.append(1)\n",
    "        else:\n",
    "            l.append(0)\n",
    "    return l"
   ]
  },
  {
   "cell_type": "code",
   "execution_count": 32,
   "id": "15da9b85",
   "metadata": {},
   "outputs": [],
   "source": [
    "finger = [Chem.GetMorganFingerprintAsBitVect(mol, 2, nBits=1024) for mol in df.mol] #do vzdálenosti 2\n",
    "df['finger'] = finger"
   ]
  },
  {
   "cell_type": "code",
   "execution_count": 33,
   "id": "f170ef5a",
   "metadata": {},
   "outputs": [
    {
     "data": {
      "text/plain": [
       "inactive    4743\n",
       "active      1972\n",
       "Name: activity, dtype: int64"
      ]
     },
     "execution_count": 33,
     "metadata": {},
     "output_type": "execute_result"
    }
   ],
   "source": [
    "treshold = 7.523\n",
    "df['activity']='inactive'\n",
    "df.loc[df['value'] > treshold, 'activity'] = 'active'\n",
    "df['activity'].value_counts()"
   ]
  },
  {
   "cell_type": "code",
   "execution_count": 34,
   "id": "989f0190",
   "metadata": {},
   "outputs": [
    {
     "data": {
      "text/plain": [
       "Int64Index([   0,    2,    7,   21,   22,   23,   26,   30,   31,   32,\n",
       "            ...\n",
       "            6699, 6700, 6701, 6702, 6703, 6704, 6705, 6706, 6707, 6709],\n",
       "           dtype='int64', length=1972)"
      ]
     },
     "execution_count": 34,
     "metadata": {},
     "output_type": "execute_result"
    }
   ],
   "source": [
    "d = df.loc[df.activity == 'active']\n",
    "d.index"
   ]
  },
  {
   "cell_type": "code",
   "execution_count": 35,
   "id": "358e09aa",
   "metadata": {},
   "outputs": [],
   "source": [
    "f = Chem.GetMorganFingerprintAsBitVect(Chem.MolFromSmiles(df.canonical_smiles[6709]), 2, nBits=1024)"
   ]
  },
  {
   "cell_type": "code",
   "execution_count": 36,
   "id": "bbd9158c",
   "metadata": {},
   "outputs": [],
   "source": [
    "res = similarity_search(df, f)\n",
    "df['similar'] = res"
   ]
  },
  {
   "cell_type": "code",
   "execution_count": 37,
   "id": "a6de8d10",
   "metadata": {},
   "outputs": [
    {
     "data": {
      "text/plain": [
       "NO     6711\n",
       "YES       4\n",
       "Name: similarity, dtype: int64"
      ]
     },
     "execution_count": 37,
     "metadata": {},
     "output_type": "execute_result"
    }
   ],
   "source": [
    "#r = similarity_search_treshold(df, f, 0.5)\n",
    "#np.sum(r)\n",
    "df['similarity']='NO'\n",
    "df.loc[df['similar'] > 0.80, 'similarity'] = 'YES'\n",
    "df['similarity'].value_counts()"
   ]
  },
  {
   "cell_type": "code",
   "execution_count": 38,
   "id": "f9eae979",
   "metadata": {},
   "outputs": [
    {
     "data": {
      "text/plain": [
       "<AxesSubplot:xlabel='similar', ylabel='Count'>"
      ]
     },
     "execution_count": 38,
     "metadata": {},
     "output_type": "execute_result"
    },
    {
     "data": {
      "image/png": "[encoded data removed]",
      "text/plain": [
       "<Figure size 432x288 with 1 Axes>"
      ]
     },
     "metadata": {
      "needs_background": "light"
     },
     "output_type": "display_data"
    }
   ],
   "source": [
    "sns.histplot(df.similar)"
   ]
  },
  {
   "cell_type": "code",
   "execution_count": 62,
   "id": "14179265",
   "metadata": {},
   "outputs": [
    {
     "data": {
      "text/html": [
       "<div>\n",
       "<style scoped>\n",
       "    .dataframe tbody tr th:only-of-type {\n",
       "        vertical-align: middle;\n",
       "    }\n",
       "\n",
       "    .dataframe tbody tr th {\n",
       "        vertical-align: top;\n",
       "    }\n",
       "\n",
       "    .dataframe thead th {\n",
       "        text-align: right;\n",
       "    }\n",
       "</style>\n",
       "<table border=\"1\" class=\"dataframe\">\n",
       "  <thead>\n",
       "    <tr style=\"text-align: right;\">\n",
       "      <th></th>\n",
       "      <th>cmpd_chembl_id</th>\n",
       "      <th>canonical_smiles</th>\n",
       "      <th>value</th>\n",
       "      <th>mol</th>\n",
       "      <th>finger</th>\n",
       "      <th>activity</th>\n",
       "      <th>similar</th>\n",
       "      <th>similarity</th>\n",
       "    </tr>\n",
       "  </thead>\n",
       "  <tbody>\n",
       "    <tr>\n",
       "      <th>1661</th>\n",
       "      <td>CHEMBL3962233</td>\n",
       "      <td>COc1cc2c(Nc3ccc(NC(=O)Nc4ccc(Cl)cc4)c(Cl)c3)nc...</td>\n",
       "      <td>6.55</td>\n",
       "      <td>&lt;rdkit.Chem.rdchem.Mol object at 0x000001DF822...</td>\n",
       "      <td>[0, 0, 0, 0, 0, 0, 0, 0, 0, 0, 0, 0, 0, 1, 1, ...</td>\n",
       "      <td>inactive</td>\n",
       "      <td>0.902778</td>\n",
       "      <td>YES</td>\n",
       "    </tr>\n",
       "    <tr>\n",
       "      <th>6133</th>\n",
       "      <td>CHEMBL3968039</td>\n",
       "      <td>COc1cc2c(Nc3ccc(NC(=O)Nc4ccc(C)c(C)c4)c(Cl)c3)...</td>\n",
       "      <td>7.10</td>\n",
       "      <td>&lt;rdkit.Chem.rdchem.Mol object at 0x000001DF822...</td>\n",
       "      <td>[0, 0, 0, 0, 0, 0, 0, 0, 0, 0, 0, 0, 0, 1, 1, ...</td>\n",
       "      <td>inactive</td>\n",
       "      <td>0.853333</td>\n",
       "      <td>YES</td>\n",
       "    </tr>\n",
       "    <tr>\n",
       "      <th>6171</th>\n",
       "      <td>CHEMBL3979264</td>\n",
       "      <td>COc1cc2c(Nc3ccc(NC(=O)Nc4ccccc4)c(Cl)c3)ncnc2c...</td>\n",
       "      <td>6.58</td>\n",
       "      <td>&lt;rdkit.Chem.rdchem.Mol object at 0x000001DF822...</td>\n",
       "      <td>[0, 0, 0, 0, 0, 0, 0, 0, 0, 0, 0, 0, 0, 1, 1, ...</td>\n",
       "      <td>inactive</td>\n",
       "      <td>0.840000</td>\n",
       "      <td>YES</td>\n",
       "    </tr>\n",
       "    <tr>\n",
       "      <th>6709</th>\n",
       "      <td>CHEMBL3929448</td>\n",
       "      <td>COc1cc2c(Nc3ccc(NC(=O)Nc4ccc(F)c(Cl)c4)c(Cl)c3...</td>\n",
       "      <td>7.85</td>\n",
       "      <td>&lt;rdkit.Chem.rdchem.Mol object at 0x000001DF822...</td>\n",
       "      <td>[0, 0, 0, 0, 0, 0, 0, 0, 0, 0, 0, 0, 0, 1, 1, ...</td>\n",
       "      <td>active</td>\n",
       "      <td>1.000000</td>\n",
       "      <td>YES</td>\n",
       "    </tr>\n",
       "  </tbody>\n",
       "</table>\n",
       "</div>"
      ],
      "text/plain": [
       "     cmpd_chembl_id                                   canonical_smiles  value  \\\n",
       "1661  CHEMBL3962233  COc1cc2c(Nc3ccc(NC(=O)Nc4ccc(Cl)cc4)c(Cl)c3)nc...   6.55   \n",
       "6133  CHEMBL3968039  COc1cc2c(Nc3ccc(NC(=O)Nc4ccc(C)c(C)c4)c(Cl)c3)...   7.10   \n",
       "6171  CHEMBL3979264  COc1cc2c(Nc3ccc(NC(=O)Nc4ccccc4)c(Cl)c3)ncnc2c...   6.58   \n",
       "6709  CHEMBL3929448  COc1cc2c(Nc3ccc(NC(=O)Nc4ccc(F)c(Cl)c4)c(Cl)c3...   7.85   \n",
       "\n",
       "                                                    mol  \\\n",
       "1661  <rdkit.Chem.rdchem.Mol object at 0x000001DF822...   \n",
       "6133  <rdkit.Chem.rdchem.Mol object at 0x000001DF822...   \n",
       "6171  <rdkit.Chem.rdchem.Mol object at 0x000001DF822...   \n",
       "6709  <rdkit.Chem.rdchem.Mol object at 0x000001DF822...   \n",
       "\n",
       "                                                 finger  activity   similar  \\\n",
       "1661  [0, 0, 0, 0, 0, 0, 0, 0, 0, 0, 0, 0, 0, 1, 1, ...  inactive  0.902778   \n",
       "6133  [0, 0, 0, 0, 0, 0, 0, 0, 0, 0, 0, 0, 0, 1, 1, ...  inactive  0.853333   \n",
       "6171  [0, 0, 0, 0, 0, 0, 0, 0, 0, 0, 0, 0, 0, 1, 1, ...  inactive  0.840000   \n",
       "6709  [0, 0, 0, 0, 0, 0, 0, 0, 0, 0, 0, 0, 0, 1, 1, ...    active  1.000000   \n",
       "\n",
       "     similarity  \n",
       "1661        YES  \n",
       "6133        YES  \n",
       "6171        YES  \n",
       "6709        YES  "
      ]
     },
     "execution_count": 62,
     "metadata": {},
     "output_type": "execute_result"
    }
   ],
   "source": [
    "df_hit = df.loc[df.similarity == 'YES']\n",
    "df_hit"
   ]
  },
  {
   "cell_type": "code",
   "execution_count": 85,
   "id": "76630d60",
   "metadata": {},
   "outputs": [
    {
     "data": {
      "image/png": "[encoded data removed]",
      "text/plain": [
       "<IPython.core.display.Image object>"
      ]
     },
     "execution_count": 85,
     "metadata": {},
     "output_type": "execute_result"
    }
   ],
   "source": [
    "index = df_hit.index\n",
    "Draw.MolsToGridImage([df.mol[index[i]] for i in range(0,len(df_hit))], molsPerRow=2, subImgSize=(500,500),\n",
    "                     legends=[\"{}\".format(sim) for sim in df_hit.similar])"
   ]
  },
  {
   "cell_type": "code",
   "execution_count": 46,
   "id": "49178e4a",
   "metadata": {},
   "outputs": [],
   "source": [
    "def similarity(df):\n",
    "    a = []\n",
    "    for i in range(0,len(df.index)):\n",
    "        s = similarity_search(df, df.finger[i])\n",
    "        a.append(s)\n",
    "    return a"
   ]
  },
  {
   "cell_type": "code",
   "execution_count": 47,
   "id": "de23f677",
   "metadata": {},
   "outputs": [],
   "source": [
    "distance_matrix = similarity(df)"
   ]
  },
  {
   "cell_type": "code",
   "execution_count": 56,
   "id": "93a9b819",
   "metadata": {},
   "outputs": [],
   "source": [
    "def flatten(t):\n",
    "    return [item for sublist in t for item in sublist]"
   ]
  },
  {
   "cell_type": "code",
   "execution_count": 57,
   "id": "0b461924",
   "metadata": {},
   "outputs": [],
   "source": [
    "distance_matrix_flatten = flatten(distance_matrix)"
   ]
  },
  {
   "cell_type": "code",
   "execution_count": 86,
   "id": "2b148330",
   "metadata": {},
   "outputs": [
    {
     "data": {
      "text/plain": [
       "0.15876241248264922"
      ]
     },
     "execution_count": 86,
     "metadata": {},
     "output_type": "execute_result"
    }
   ],
   "source": [
    "sum(distance_matrix_flatten)/len(distance_matrix_flatten)"
   ]
  },
  {
   "cell_type": "code",
   "execution_count": 53,
   "id": "3dfc6d4a",
   "metadata": {},
   "outputs": [
    {
     "data": {
      "text/plain": [
       "0.15876241248264922"
      ]
     },
     "execution_count": 53,
     "metadata": {},
     "output_type": "execute_result"
    }
   ],
   "source": [
    "#sum(distance_matrix[0])\n",
    "suma = sum(sum(distance_matrix,[]))  \n",
    "length = len(distance_matrix[0])*len(distance_matrix)\n",
    "suma/length"
   ]
  },
  {
   "cell_type": "code",
   "execution_count": 88,
   "id": "413f9edb",
   "metadata": {},
   "outputs": [
    {
     "data": {
      "text/plain": [
       "<AxesSubplot:ylabel='Count'>"
      ]
     },
     "execution_count": 88,
     "metadata": {},
     "output_type": "execute_result"
    },
    {
     "data": {
      "image/png": "[encoded data removed]",
      "text/plain": [
       "<Figure size 432x288 with 1 Axes>"
      ]
     },
     "metadata": {
      "needs_background": "light"
     },
     "output_type": "display_data"
    }
   ],
   "source": [
    "sns.histplot(distance_matrix_flatten)"
   ]
  },
  {
   "cell_type": "code",
   "execution_count": 90,
   "id": "c5cc240b",
   "metadata": {},
   "outputs": [
    {
     "name": "stderr",
     "output_type": "stream",
     "text": [
      "C:\\Users\\domiz\\Miniconda3\\envs\\my-rdkit-env\\lib\\site-packages\\seaborn\\_decorators.py:36: FutureWarning: Pass the following variable as a keyword arg: x. From version 0.12, the only valid positional argument will be `data`, and passing other arguments without an explicit keyword will result in an error or misinterpretation.\n",
      "  warnings.warn(\n"
     ]
    },
    {
     "data": {
      "text/plain": [
       "<AxesSubplot:>"
      ]
     },
     "execution_count": 90,
     "metadata": {},
     "output_type": "execute_result"
    },
    {
     "data": {
      "image/png": "[encoded data removed]",
      "text/plain": [
       "<Figure size 432x288 with 1 Axes>"
      ]
     },
     "metadata": {
      "needs_background": "light"
     },
     "output_type": "display_data"
    }
   ],
   "source": [
    "sns.boxplot(distance_matrix_flatten)"
   ]
  },
  {
   "cell_type": "code",
   "execution_count": null,
   "id": "808548a2",
   "metadata": {},
   "outputs": [],
   "source": []
  }
 ],
 "metadata": {
  "kernelspec": {
   "display_name": "Python 3 (ipykernel)",
   "language": "python",
   "name": "python3"
  },
  "language_info": {
   "codemirror_mode": {
    "name": "ipython",
    "version": 3
   },
   "file_extension": ".py",
   "mimetype": "text/x-python",
   "name": "python",
   "nbconvert_exporter": "python",
   "pygments_lexer": "ipython3",
   "version": "3.9.10"
  }
 },
 "nbformat": 4,
 "nbformat_minor": 5
}
