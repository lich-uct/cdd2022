{
 "cells": [
  {
   "cell_type": "code",
   "execution_count": 91,
   "id": "51a5834b",
   "metadata": {},
   "outputs": [],
   "source": [
    "import numpy as np\n",
    "import pandas as pd\n",
    "import seaborn as sns\n",
    "from rdkit import DataStructs\n",
    "from rdkit.Chem import MACCSkeys\n",
    "from rdkit.Chem import AllChem as Chem"
   ]
  },
  {
   "cell_type": "markdown",
   "id": "db456f7c",
   "metadata": {},
   "source": [
    "# Structural keys"
   ]
  },
  {
   "cell_type": "code",
   "execution_count": 99,
   "id": "5902dd62",
   "metadata": {},
   "outputs": [
    {
     "data": {
      "text/html": [
       "<div>\n",
       "<style scoped>\n",
       "    .dataframe tbody tr th:only-of-type {\n",
       "        vertical-align: middle;\n",
       "    }\n",
       "\n",
       "    .dataframe tbody tr th {\n",
       "        vertical-align: top;\n",
       "    }\n",
       "\n",
       "    .dataframe thead th {\n",
       "        text-align: right;\n",
       "    }\n",
       "</style>\n",
       "<table border=\"1\" class=\"dataframe\">\n",
       "  <thead>\n",
       "    <tr style=\"text-align: right;\">\n",
       "      <th></th>\n",
       "      <th>cmpd_chembl_id</th>\n",
       "      <th>canonical_smiles</th>\n",
       "      <th>value</th>\n",
       "    </tr>\n",
       "  </thead>\n",
       "  <tbody>\n",
       "    <tr>\n",
       "      <th>0</th>\n",
       "      <td>CHEMBL356626</td>\n",
       "      <td>CCCOCc1ccc2c(c1)c3c4CNC(=O)c4c5c(Cc6ccccc56)c3...</td>\n",
       "      <td>7.890</td>\n",
       "    </tr>\n",
       "    <tr>\n",
       "      <th>1</th>\n",
       "      <td>CHEMBL171558</td>\n",
       "      <td>COc1cc2c(Nc3cccc4occc34)ncnc2cc1OCCCN5CCOCC5</td>\n",
       "      <td>6.600</td>\n",
       "    </tr>\n",
       "    <tr>\n",
       "      <th>2</th>\n",
       "      <td>CHEMBL221053</td>\n",
       "      <td>CCc1cccc(NC(=O)Nc2ccc(cc2)c3cccc4[nH]nc(N)c34)c1</td>\n",
       "      <td>8.220</td>\n",
       "    </tr>\n",
       "    <tr>\n",
       "      <th>3</th>\n",
       "      <td>CHEMBL3754450</td>\n",
       "      <td>COc1cccc(c1)C(=O)CN2CCN(CC2)c3nnc(c4ccccc4)c5c...</td>\n",
       "      <td>5.470</td>\n",
       "    </tr>\n",
       "    <tr>\n",
       "      <th>4</th>\n",
       "      <td>CHEMBL383255</td>\n",
       "      <td>Cn1cnc(NCc2ccncc2)c1c3oc(Nc4ccc(OC(F)(F)F)cc4)nn3</td>\n",
       "      <td>7.105</td>\n",
       "    </tr>\n",
       "  </tbody>\n",
       "</table>\n",
       "</div>"
      ],
      "text/plain": [
       "  cmpd_chembl_id                                   canonical_smiles  value\n",
       "0   CHEMBL356626  CCCOCc1ccc2c(c1)c3c4CNC(=O)c4c5c(Cc6ccccc56)c3...  7.890\n",
       "1   CHEMBL171558       COc1cc2c(Nc3cccc4occc34)ncnc2cc1OCCCN5CCOCC5  6.600\n",
       "2   CHEMBL221053   CCc1cccc(NC(=O)Nc2ccc(cc2)c3cccc4[nH]nc(N)c34)c1  8.220\n",
       "3  CHEMBL3754450  COc1cccc(c1)C(=O)CN2CCN(CC2)c3nnc(c4ccccc4)c5c...  5.470\n",
       "4   CHEMBL383255  Cn1cnc(NCc2ccncc2)c1c3oc(Nc4ccc(OC(F)(F)F)cc4)nn3  7.105"
      ]
     },
     "execution_count": 99,
     "metadata": {},
     "output_type": "execute_result"
    }
   ],
   "source": [
    "df = pd.read_csv('VEGF2.csv')\n",
    "df = df.drop(['tid', 'standard_type', 'confidence_score', 'cmpd_pref_name', 'activity_comment'], axis=1)\n",
    "df['mol'] = [Chem.MolFromSmiles(i) for i in df['canonical_smiles']]\n",
    "df.head()"
   ]
  },
  {
   "cell_type": "markdown",
   "id": "2b7a45aa",
   "metadata": {},
   "source": [
    "## Structural keys"
   ]
  },
  {
   "cell_type": "code",
   "execution_count": 102,
   "id": "a363db0a",
   "metadata": {},
   "outputs": [
    {
     "data": {
      "text/plain": [
       "(<rdkit.Chem.rdchem.Mol at 0x145ba2d7280>,\n",
       " <rdkit.Chem.rdchem.Mol at 0x145ba2d74c0>,\n",
       " <rdkit.Chem.rdchem.Mol at 0x145ba2d7340>,\n",
       " <rdkit.Chem.rdchem.Mol at 0x145ba2d7520>,\n",
       " <rdkit.Chem.rdchem.Mol at 0x145ba2d7580>,\n",
       " <rdkit.Chem.rdchem.Mol at 0x145ba2d75e0>,\n",
       " <rdkit.Chem.rdchem.Mol at 0x145ba2d7640>,\n",
       " <rdkit.Chem.rdchem.Mol at 0x145ba2d7460>)"
      ]
     },
     "execution_count": 102,
     "metadata": {},
     "output_type": "execute_result"
    }
   ],
   "source": [
    "structural_keys = (\n",
    "    Chem.MolFromSmiles('C(=O)O'),\n",
    "    Chem.MolFromSmiles(\"CCC\"),\n",
    "    Chem.MolFromSmiles(\"c1ccccc1\"),\n",
    "    Chem.MolFromSmiles(\"C1CCCCC1\"),\n",
    "    Chem.MolFromSmiles(\"S\"),\n",
    "    Chem.MolFromSmiles(\"N\"),\n",
    "    Chem.MolFromSmiles(\"[NH2]\"),\n",
    "    Chem.MolFromSmiles(\"O\")\n",
    "    #Chem.MolFromSmiles('n'),\n",
    "    #Chem.MolFromSmiles(\"[R]\"),\n",
    "    #Chem.MolFromSmiles(\"a\"),\n",
    "    #Chem.MolFromSmiles(\"[F,Cl,Br,I]\"),\n",
    "    #Chem.MolFromSmiles('[D3]'),\n",
    ")\n",
    "structural_keys"
   ]
  },
  {
   "cell_type": "code",
   "execution_count": 103,
   "id": "17acba89",
   "metadata": {},
   "outputs": [],
   "source": [
    "def get_structured_key(mol, keys):\n",
    "    return [mol.HasSubstructMatch(key) for key in keys]\n",
    "def structural_key(mol, keys):\n",
    "    l = get_structured_key(mol, keys)\n",
    "    return [int(i) for i in l]"
   ]
  },
  {
   "cell_type": "code",
   "execution_count": 105,
   "id": "1fdb89c2",
   "metadata": {},
   "outputs": [
    {
     "data": {
      "text/plain": [
       "[0, 1, 1, 0, 0, 1, 0, 1]"
      ]
     },
     "execution_count": 105,
     "metadata": {},
     "output_type": "execute_result"
    }
   ],
   "source": [
    "structural_key(df['mol'][1], structural_keys)"
   ]
  },
  {
   "cell_type": "code",
   "execution_count": 108,
   "id": "f923b3a9",
   "metadata": {},
   "outputs": [
    {
     "data": {
      "text/plain": [
       "[False, True, True, False, False, True, False, True]"
      ]
     },
     "execution_count": 108,
     "metadata": {},
     "output_type": "execute_result"
    }
   ],
   "source": [
    "get_structured_key(df['mol'][1], structural_keys)"
   ]
  },
  {
   "cell_type": "code",
   "execution_count": 107,
   "id": "c52083c8",
   "metadata": {},
   "outputs": [
    {
     "data": {
      "image/png": "[encoded data removed]",
      "text/plain": [
       "<rdkit.Chem.rdchem.Mol at 0x145ba445e20>"
      ]
     },
     "execution_count": 107,
     "metadata": {},
     "output_type": "execute_result"
    }
   ],
   "source": [
    "df['mol'][1]"
   ]
  },
  {
   "cell_type": "code",
   "execution_count": 109,
   "id": "4983808f",
   "metadata": {},
   "outputs": [],
   "source": [
    "df['structural_key'] = [tuple(structural_key(mol, structural_keys)) for mol in df['mol']]"
   ]
  },
  {
   "cell_type": "code",
   "execution_count": 110,
   "id": "c63bf7b0",
   "metadata": {},
   "outputs": [
    {
     "data": {
      "text/html": [
       "<div>\n",
       "<style scoped>\n",
       "    .dataframe tbody tr th:only-of-type {\n",
       "        vertical-align: middle;\n",
       "    }\n",
       "\n",
       "    .dataframe tbody tr th {\n",
       "        vertical-align: top;\n",
       "    }\n",
       "\n",
       "    .dataframe thead th {\n",
       "        text-align: right;\n",
       "    }\n",
       "</style>\n",
       "<table border=\"1\" class=\"dataframe\">\n",
       "  <thead>\n",
       "    <tr style=\"text-align: right;\">\n",
       "      <th></th>\n",
       "      <th>cmpd_chembl_id</th>\n",
       "      <th>canonical_smiles</th>\n",
       "      <th>value</th>\n",
       "      <th>mol</th>\n",
       "      <th>structural_key</th>\n",
       "    </tr>\n",
       "  </thead>\n",
       "  <tbody>\n",
       "    <tr>\n",
       "      <th>307</th>\n",
       "      <td>CHEMBL456936</td>\n",
       "      <td>CC(C)CCC[C@@H](C)[C@H]1CC[C@H]2[C@H](CCc3cc(O)...</td>\n",
       "      <td>5.22</td>\n",
       "      <td>&lt;rdkit.Chem.rdchem.Mol object at 0x00000145BA4...</td>\n",
       "      <td>(0, 1, 1, 1, 0, 0, 0, 1)</td>\n",
       "    </tr>\n",
       "    <tr>\n",
       "      <th>841</th>\n",
       "      <td>CHEMBL1922224</td>\n",
       "      <td>CC(C)C\\C=C\\[C@@H](C)[C@H]1CC[C@H]2[C@H](CCc3cc...</td>\n",
       "      <td>5.30</td>\n",
       "      <td>&lt;rdkit.Chem.rdchem.Mol object at 0x00000145BA4...</td>\n",
       "      <td>(0, 1, 1, 1, 0, 0, 0, 1)</td>\n",
       "    </tr>\n",
       "    <tr>\n",
       "      <th>842</th>\n",
       "      <td>CHEMBL1922225</td>\n",
       "      <td>CC(C)C(=C)CC[C@@H](C)[C@H]1CC[C@H]2[C@H](CCc3c...</td>\n",
       "      <td>5.31</td>\n",
       "      <td>&lt;rdkit.Chem.rdchem.Mol object at 0x00000145BA4...</td>\n",
       "      <td>(0, 1, 1, 1, 0, 0, 0, 1)</td>\n",
       "    </tr>\n",
       "    <tr>\n",
       "      <th>1491</th>\n",
       "      <td>CHEMBL518060</td>\n",
       "      <td>CC(C)C\\C=C\\[C@@H](C)[C@H]1CC[C@H]2[C@H](CCc3cc...</td>\n",
       "      <td>5.34</td>\n",
       "      <td>&lt;rdkit.Chem.rdchem.Mol object at 0x00000145BA4...</td>\n",
       "      <td>(0, 1, 1, 1, 0, 0, 0, 1)</td>\n",
       "    </tr>\n",
       "    <tr>\n",
       "      <th>6712</th>\n",
       "      <td>CHEMBL517956</td>\n",
       "      <td>CC(C)CCC[C@@H](C)[C@H]1CC[C@H]2[C@H](CCc3cc(O)...</td>\n",
       "      <td>5.36</td>\n",
       "      <td>&lt;rdkit.Chem.rdchem.Mol object at 0x00000145BA2...</td>\n",
       "      <td>(0, 1, 1, 1, 0, 0, 0, 1)</td>\n",
       "    </tr>\n",
       "  </tbody>\n",
       "</table>\n",
       "</div>"
      ],
      "text/plain": [
       "     cmpd_chembl_id                                   canonical_smiles  value  \\\n",
       "307    CHEMBL456936  CC(C)CCC[C@@H](C)[C@H]1CC[C@H]2[C@H](CCc3cc(O)...   5.22   \n",
       "841   CHEMBL1922224  CC(C)C\\C=C\\[C@@H](C)[C@H]1CC[C@H]2[C@H](CCc3cc...   5.30   \n",
       "842   CHEMBL1922225  CC(C)C(=C)CC[C@@H](C)[C@H]1CC[C@H]2[C@H](CCc3c...   5.31   \n",
       "1491   CHEMBL518060  CC(C)C\\C=C\\[C@@H](C)[C@H]1CC[C@H]2[C@H](CCc3cc...   5.34   \n",
       "6712   CHEMBL517956  CC(C)CCC[C@@H](C)[C@H]1CC[C@H]2[C@H](CCc3cc(O)...   5.36   \n",
       "\n",
       "                                                    mol  \\\n",
       "307   <rdkit.Chem.rdchem.Mol object at 0x00000145BA4...   \n",
       "841   <rdkit.Chem.rdchem.Mol object at 0x00000145BA4...   \n",
       "842   <rdkit.Chem.rdchem.Mol object at 0x00000145BA4...   \n",
       "1491  <rdkit.Chem.rdchem.Mol object at 0x00000145BA4...   \n",
       "6712  <rdkit.Chem.rdchem.Mol object at 0x00000145BA2...   \n",
       "\n",
       "                structural_key  \n",
       "307   (0, 1, 1, 1, 0, 0, 0, 1)  \n",
       "841   (0, 1, 1, 1, 0, 0, 0, 1)  \n",
       "842   (0, 1, 1, 1, 0, 0, 0, 1)  \n",
       "1491  (0, 1, 1, 1, 0, 0, 0, 1)  \n",
       "6712  (0, 1, 1, 1, 0, 0, 0, 1)  "
      ]
     },
     "execution_count": 110,
     "metadata": {},
     "output_type": "execute_result"
    }
   ],
   "source": [
    "#df['structural_key']\n",
    "df.loc[df['structural_key'] == (0, 1, 1, 1, 0, 0, 0, 1)]"
   ]
  },
  {
   "cell_type": "code",
   "execution_count": 111,
   "id": "ac354db4",
   "metadata": {},
   "outputs": [],
   "source": [
    "#df['key'] = [tuple(get_structured_key(mol, structural_keys)) for mol in df['mol']]\n",
    "#df.loc[df['key'] == (False, False, False, False, False, False, False, False)]\n",
    "#df.loc[df['key'] == (True, True, True, True, True, True, True, True)]\n",
    "#df.loc[df['key'] == (False, True, True, True, False, False, False, True)]"
   ]
  },
  {
   "cell_type": "markdown",
   "id": "3ffc5677",
   "metadata": {},
   "source": [
    "## MACCS"
   ]
  },
  {
   "cell_type": "code",
   "execution_count": 115,
   "id": "bc213174",
   "metadata": {},
   "outputs": [],
   "source": [
    "df['maccs'] = [MACCSkeys.GenMACCSKeys(mol) for mol in df['mol']]"
   ]
  },
  {
   "cell_type": "code",
   "execution_count": 116,
   "id": "0e863ca6",
   "metadata": {},
   "outputs": [
    {
     "data": {
      "text/plain": [
       "167"
      ]
     },
     "execution_count": 116,
     "metadata": {},
     "output_type": "execute_result"
    }
   ],
   "source": [
    "len(df['maccs'][0])"
   ]
  },
  {
   "cell_type": "code",
   "execution_count": 117,
   "id": "9f70cf40",
   "metadata": {},
   "outputs": [
    {
     "data": {
      "text/plain": [
       "0.6197183098591549"
      ]
     },
     "execution_count": 117,
     "metadata": {},
     "output_type": "execute_result"
    }
   ],
   "source": [
    "DataStructs.FingerprintSimilarity(df['maccs'][0], df['maccs'][1]) # Tanimoto similarity"
   ]
  },
  {
   "cell_type": "code",
   "execution_count": 200,
   "id": "51837bf5",
   "metadata": {},
   "outputs": [],
   "source": [
    "def tanimoto(a, b):\n",
    "    intersect = set(a).intersection(set(b))\n",
    "    union = set(a).union(set(b))\n",
    "    return len(intersect)/len(union)"
   ]
  },
  {
   "cell_type": "code",
   "execution_count": 201,
   "id": "477ee57d",
   "metadata": {},
   "outputs": [
    {
     "data": {
      "text/plain": [
       "0.25"
      ]
     },
     "execution_count": 201,
     "metadata": {},
     "output_type": "execute_result"
    }
   ],
   "source": [
    "tanimoto({'a','b'}, {'a','c','d'})"
   ]
  },
  {
   "cell_type": "code",
   "execution_count": 202,
   "id": "b2de9a2e",
   "metadata": {},
   "outputs": [
    {
     "data": {
      "text/plain": [
       "1.0"
      ]
     },
     "execution_count": 202,
     "metadata": {},
     "output_type": "execute_result"
    }
   ],
   "source": [
    "tanimoto(df['maccs'][0], df['maccs'][1])"
   ]
  },
  {
   "cell_type": "markdown",
   "id": "9637c089",
   "metadata": {},
   "source": [
    "## Fingerprint"
   ]
  },
  {
   "cell_type": "code",
   "execution_count": 184,
   "id": "a0099070",
   "metadata": {},
   "outputs": [],
   "source": [
    "finger = [Chem.GetMorganFingerprintAsBitVect(mol, 2, nBits=1024) for mol in df.mol] #do vzdálenosti 2\n",
    "df['finger'] = finger"
   ]
  },
  {
   "cell_type": "code",
   "execution_count": 185,
   "id": "979e32c3",
   "metadata": {},
   "outputs": [
    {
     "data": {
      "text/html": [
       "<div>\n",
       "<style scoped>\n",
       "    .dataframe tbody tr th:only-of-type {\n",
       "        vertical-align: middle;\n",
       "    }\n",
       "\n",
       "    .dataframe tbody tr th {\n",
       "        vertical-align: top;\n",
       "    }\n",
       "\n",
       "    .dataframe thead th {\n",
       "        text-align: right;\n",
       "    }\n",
       "</style>\n",
       "<table border=\"1\" class=\"dataframe\">\n",
       "  <thead>\n",
       "    <tr style=\"text-align: right;\">\n",
       "      <th></th>\n",
       "      <th>cmpd_chembl_id</th>\n",
       "      <th>canonical_smiles</th>\n",
       "      <th>value</th>\n",
       "      <th>mol</th>\n",
       "      <th>structural_key</th>\n",
       "      <th>maccs</th>\n",
       "      <th>finger</th>\n",
       "    </tr>\n",
       "  </thead>\n",
       "  <tbody>\n",
       "    <tr>\n",
       "      <th>0</th>\n",
       "      <td>CHEMBL356626</td>\n",
       "      <td>CCCOCc1ccc2c(c1)c3c4CNC(=O)c4c5c(Cc6ccccc56)c3...</td>\n",
       "      <td>7.890</td>\n",
       "      <td>&lt;rdkit.Chem.rdchem.Mol object at 0x00000145BA4...</td>\n",
       "      <td>(0, 1, 1, 0, 0, 1, 0, 1)</td>\n",
       "      <td>[0, 0, 0, 0, 0, 0, 0, 0, 0, 0, 0, 0, 0, 0, 0, ...</td>\n",
       "      <td>[0, 0, 0, 0, 0, 0, 0, 0, 0, 0, 0, 0, 0, 1, 0, ...</td>\n",
       "    </tr>\n",
       "    <tr>\n",
       "      <th>1</th>\n",
       "      <td>CHEMBL171558</td>\n",
       "      <td>COc1cc2c(Nc3cccc4occc34)ncnc2cc1OCCCN5CCOCC5</td>\n",
       "      <td>6.600</td>\n",
       "      <td>&lt;rdkit.Chem.rdchem.Mol object at 0x00000145BA4...</td>\n",
       "      <td>(0, 1, 1, 0, 0, 1, 0, 1)</td>\n",
       "      <td>[0, 0, 0, 0, 0, 0, 0, 0, 0, 0, 0, 0, 0, 0, 0, ...</td>\n",
       "      <td>[0, 0, 0, 0, 0, 0, 0, 0, 0, 0, 0, 0, 0, 1, 0, ...</td>\n",
       "    </tr>\n",
       "    <tr>\n",
       "      <th>2</th>\n",
       "      <td>CHEMBL221053</td>\n",
       "      <td>CCc1cccc(NC(=O)Nc2ccc(cc2)c3cccc4[nH]nc(N)c34)c1</td>\n",
       "      <td>8.220</td>\n",
       "      <td>&lt;rdkit.Chem.rdchem.Mol object at 0x00000145BA4...</td>\n",
       "      <td>(0, 1, 1, 0, 0, 1, 0, 1)</td>\n",
       "      <td>[0, 0, 0, 0, 0, 0, 0, 0, 0, 0, 0, 0, 0, 0, 0, ...</td>\n",
       "      <td>[0, 0, 0, 0, 0, 0, 0, 0, 0, 0, 0, 0, 0, 0, 0, ...</td>\n",
       "    </tr>\n",
       "    <tr>\n",
       "      <th>3</th>\n",
       "      <td>CHEMBL3754450</td>\n",
       "      <td>COc1cccc(c1)C(=O)CN2CCN(CC2)c3nnc(c4ccccc4)c5c...</td>\n",
       "      <td>5.470</td>\n",
       "      <td>&lt;rdkit.Chem.rdchem.Mol object at 0x00000145BA4...</td>\n",
       "      <td>(0, 1, 1, 0, 0, 1, 0, 1)</td>\n",
       "      <td>[0, 0, 0, 0, 0, 0, 0, 0, 0, 0, 0, 0, 0, 0, 0, ...</td>\n",
       "      <td>[0, 0, 0, 0, 0, 0, 0, 0, 0, 0, 0, 0, 0, 0, 0, ...</td>\n",
       "    </tr>\n",
       "    <tr>\n",
       "      <th>4</th>\n",
       "      <td>CHEMBL383255</td>\n",
       "      <td>Cn1cnc(NCc2ccncc2)c1c3oc(Nc4ccc(OC(F)(F)F)cc4)nn3</td>\n",
       "      <td>7.105</td>\n",
       "      <td>&lt;rdkit.Chem.rdchem.Mol object at 0x00000145BA4...</td>\n",
       "      <td>(0, 0, 1, 0, 0, 1, 0, 1)</td>\n",
       "      <td>[0, 0, 0, 0, 0, 0, 0, 0, 0, 0, 0, 0, 0, 0, 0, ...</td>\n",
       "      <td>[0, 0, 0, 0, 0, 0, 0, 0, 0, 0, 0, 0, 0, 0, 0, ...</td>\n",
       "    </tr>\n",
       "  </tbody>\n",
       "</table>\n",
       "</div>"
      ],
      "text/plain": [
       "  cmpd_chembl_id                                   canonical_smiles  value  \\\n",
       "0   CHEMBL356626  CCCOCc1ccc2c(c1)c3c4CNC(=O)c4c5c(Cc6ccccc56)c3...  7.890   \n",
       "1   CHEMBL171558       COc1cc2c(Nc3cccc4occc34)ncnc2cc1OCCCN5CCOCC5  6.600   \n",
       "2   CHEMBL221053   CCc1cccc(NC(=O)Nc2ccc(cc2)c3cccc4[nH]nc(N)c34)c1  8.220   \n",
       "3  CHEMBL3754450  COc1cccc(c1)C(=O)CN2CCN(CC2)c3nnc(c4ccccc4)c5c...  5.470   \n",
       "4   CHEMBL383255  Cn1cnc(NCc2ccncc2)c1c3oc(Nc4ccc(OC(F)(F)F)cc4)nn3  7.105   \n",
       "\n",
       "                                                 mol  \\\n",
       "0  <rdkit.Chem.rdchem.Mol object at 0x00000145BA4...   \n",
       "1  <rdkit.Chem.rdchem.Mol object at 0x00000145BA4...   \n",
       "2  <rdkit.Chem.rdchem.Mol object at 0x00000145BA4...   \n",
       "3  <rdkit.Chem.rdchem.Mol object at 0x00000145BA4...   \n",
       "4  <rdkit.Chem.rdchem.Mol object at 0x00000145BA4...   \n",
       "\n",
       "             structural_key  \\\n",
       "0  (0, 1, 1, 0, 0, 1, 0, 1)   \n",
       "1  (0, 1, 1, 0, 0, 1, 0, 1)   \n",
       "2  (0, 1, 1, 0, 0, 1, 0, 1)   \n",
       "3  (0, 1, 1, 0, 0, 1, 0, 1)   \n",
       "4  (0, 0, 1, 0, 0, 1, 0, 1)   \n",
       "\n",
       "                                               maccs  \\\n",
       "0  [0, 0, 0, 0, 0, 0, 0, 0, 0, 0, 0, 0, 0, 0, 0, ...   \n",
       "1  [0, 0, 0, 0, 0, 0, 0, 0, 0, 0, 0, 0, 0, 0, 0, ...   \n",
       "2  [0, 0, 0, 0, 0, 0, 0, 0, 0, 0, 0, 0, 0, 0, 0, ...   \n",
       "3  [0, 0, 0, 0, 0, 0, 0, 0, 0, 0, 0, 0, 0, 0, 0, ...   \n",
       "4  [0, 0, 0, 0, 0, 0, 0, 0, 0, 0, 0, 0, 0, 0, 0, ...   \n",
       "\n",
       "                                              finger  \n",
       "0  [0, 0, 0, 0, 0, 0, 0, 0, 0, 0, 0, 0, 0, 1, 0, ...  \n",
       "1  [0, 0, 0, 0, 0, 0, 0, 0, 0, 0, 0, 0, 0, 1, 0, ...  \n",
       "2  [0, 0, 0, 0, 0, 0, 0, 0, 0, 0, 0, 0, 0, 0, 0, ...  \n",
       "3  [0, 0, 0, 0, 0, 0, 0, 0, 0, 0, 0, 0, 0, 0, 0, ...  \n",
       "4  [0, 0, 0, 0, 0, 0, 0, 0, 0, 0, 0, 0, 0, 0, 0, ...  "
      ]
     },
     "execution_count": 185,
     "metadata": {},
     "output_type": "execute_result"
    }
   ],
   "source": [
    "df.head()"
   ]
  },
  {
   "cell_type": "code",
   "execution_count": 160,
   "id": "18b54fe8",
   "metadata": {},
   "outputs": [
    {
     "data": {
      "text/plain": [
       "array([0, 0, 0, 1, 0, 0, 1, 0, 0, 0, 0, 0, 0, 0, 0, 0, 0, 0, 0, 0])"
      ]
     },
     "execution_count": 160,
     "metadata": {},
     "output_type": "execute_result"
    }
   ],
   "source": [
    "np_finger = np.array(finger)\n",
    "np_finger[0][10:30]"
   ]
  },
  {
   "cell_type": "code",
   "execution_count": 186,
   "id": "0fdee5b6",
   "metadata": {},
   "outputs": [
    {
     "data": {
      "text/plain": [
       "0.15454545454545454"
      ]
     },
     "execution_count": 186,
     "metadata": {},
     "output_type": "execute_result"
    }
   ],
   "source": [
    "DataStructs.FingerprintSimilarity(df.finger[0], df.finger[1]) # Tanimoto similarity"
   ]
  },
  {
   "cell_type": "code",
   "execution_count": 189,
   "id": "3d17c427",
   "metadata": {},
   "outputs": [
    {
     "data": {
      "image/png": "[encoded data removed]",
      "text/plain": [
       "<rdkit.Chem.rdchem.Mol at 0x145ba445640>"
      ]
     },
     "execution_count": 189,
     "metadata": {},
     "output_type": "execute_result"
    }
   ],
   "source": [
    "df['mol'][0]"
   ]
  },
  {
   "cell_type": "code",
   "execution_count": 190,
   "id": "8b578a3f",
   "metadata": {},
   "outputs": [
    {
     "data": {
      "image/png": "[encoded data removed]",
      "text/plain": [
       "<rdkit.Chem.rdchem.Mol at 0x145ba445e20>"
      ]
     },
     "execution_count": 190,
     "metadata": {},
     "output_type": "execute_result"
    }
   ],
   "source": [
    "df.mol[1]"
   ]
  },
  {
   "cell_type": "code",
   "execution_count": 179,
   "id": "a10b3b20",
   "metadata": {},
   "outputs": [
    {
     "data": {
      "text/plain": [
       "1.0"
      ]
     },
     "execution_count": 179,
     "metadata": {},
     "output_type": "execute_result"
    }
   ],
   "source": [
    "tanimoto(df.finger[0], df.finger[1])"
   ]
  },
  {
   "cell_type": "code",
   "execution_count": null,
   "id": "0f90359a",
   "metadata": {},
   "outputs": [],
   "source": []
  },
  {
   "cell_type": "code",
   "execution_count": null,
   "id": "2e301148",
   "metadata": {},
   "outputs": [],
   "source": []
  }
 ],
 "metadata": {
  "kernelspec": {
   "display_name": "Python 3 (ipykernel)",
   "language": "python",
   "name": "python3"
  },
  "language_info": {
   "codemirror_mode": {
    "name": "ipython",
    "version": 3
   },
   "file_extension": ".py",
   "mimetype": "text/x-python",
   "name": "python",
   "nbconvert_exporter": "python",
   "pygments_lexer": "ipython3",
   "version": "3.9.10"
  }
 },
 "nbformat": 4,
 "nbformat_minor": 5
}
