{
 "cells": [
  {
   "cell_type": "code",
   "execution_count": 69,
   "metadata": {},
   "outputs": [],
   "source": [
    "import numpy as np\n",
    "import pandas as pd\n",
    "import seaborn as sns\n",
    "from rdkit import Chem\n",
    "from rdkit.Chem import AllChem, Draw\n",
    "from rdkit.Chem.Draw import IPythonConsole\n",
    "from rdkit.Chem import Descriptors"
   ]
  },
  {
   "cell_type": "markdown",
   "metadata": {},
   "source": [
    "# VEGF2"
   ]
  },
  {
   "cell_type": "code",
   "execution_count": 78,
   "metadata": {},
   "outputs": [
    {
     "data": {
      "text/html": [
       "<div>\n",
       "<style scoped>\n",
       "    .dataframe tbody tr th:only-of-type {\n",
       "        vertical-align: middle;\n",
       "    }\n",
       "\n",
       "    .dataframe tbody tr th {\n",
       "        vertical-align: top;\n",
       "    }\n",
       "\n",
       "    .dataframe thead th {\n",
       "        text-align: right;\n",
       "    }\n",
       "</style>\n",
       "<table border=\"1\" class=\"dataframe\">\n",
       "  <thead>\n",
       "    <tr style=\"text-align: right;\">\n",
       "      <th></th>\n",
       "      <th>cmpd_chembl_id</th>\n",
       "      <th>canonical_smiles</th>\n",
       "      <th>value</th>\n",
       "    </tr>\n",
       "  </thead>\n",
       "  <tbody>\n",
       "    <tr>\n",
       "      <th>0</th>\n",
       "      <td>CHEMBL356626</td>\n",
       "      <td>CCCOCc1ccc2c(c1)c3c4CNC(=O)c4c5c(Cc6ccccc56)c3...</td>\n",
       "      <td>7.890</td>\n",
       "    </tr>\n",
       "    <tr>\n",
       "      <th>1</th>\n",
       "      <td>CHEMBL171558</td>\n",
       "      <td>COc1cc2c(Nc3cccc4occc34)ncnc2cc1OCCCN5CCOCC5</td>\n",
       "      <td>6.600</td>\n",
       "    </tr>\n",
       "    <tr>\n",
       "      <th>2</th>\n",
       "      <td>CHEMBL221053</td>\n",
       "      <td>CCc1cccc(NC(=O)Nc2ccc(cc2)c3cccc4[nH]nc(N)c34)c1</td>\n",
       "      <td>8.220</td>\n",
       "    </tr>\n",
       "    <tr>\n",
       "      <th>3</th>\n",
       "      <td>CHEMBL3754450</td>\n",
       "      <td>COc1cccc(c1)C(=O)CN2CCN(CC2)c3nnc(c4ccccc4)c5c...</td>\n",
       "      <td>5.470</td>\n",
       "    </tr>\n",
       "    <tr>\n",
       "      <th>4</th>\n",
       "      <td>CHEMBL383255</td>\n",
       "      <td>Cn1cnc(NCc2ccncc2)c1c3oc(Nc4ccc(OC(F)(F)F)cc4)nn3</td>\n",
       "      <td>7.105</td>\n",
       "    </tr>\n",
       "  </tbody>\n",
       "</table>\n",
       "</div>"
      ],
      "text/plain": [
       "  cmpd_chembl_id                                   canonical_smiles  value\n",
       "0   CHEMBL356626  CCCOCc1ccc2c(c1)c3c4CNC(=O)c4c5c(Cc6ccccc56)c3...  7.890\n",
       "1   CHEMBL171558       COc1cc2c(Nc3cccc4occc34)ncnc2cc1OCCCN5CCOCC5  6.600\n",
       "2   CHEMBL221053   CCc1cccc(NC(=O)Nc2ccc(cc2)c3cccc4[nH]nc(N)c34)c1  8.220\n",
       "3  CHEMBL3754450  COc1cccc(c1)C(=O)CN2CCN(CC2)c3nnc(c4ccccc4)c5c...  5.470\n",
       "4   CHEMBL383255  Cn1cnc(NCc2ccncc2)c1c3oc(Nc4ccc(OC(F)(F)F)cc4)nn3  7.105"
      ]
     },
     "execution_count": 78,
     "metadata": {},
     "output_type": "execute_result"
    }
   ],
   "source": [
    "df_VEGF = pd.read_csv('VEGF2.csv') #pIC50\n",
    "df_VEGF = df_VEGF.drop(['tid', 'standard_type', 'confidence_score', 'cmpd_pref_name', 'activity_comment'], axis=1)\n",
    "df_VEGF.head()"
   ]
  },
  {
   "cell_type": "code",
   "execution_count": 79,
   "metadata": {},
   "outputs": [
    {
     "data": {
      "text/html": [
       "<div>\n",
       "<style scoped>\n",
       "    .dataframe tbody tr th:only-of-type {\n",
       "        vertical-align: middle;\n",
       "    }\n",
       "\n",
       "    .dataframe tbody tr th {\n",
       "        vertical-align: top;\n",
       "    }\n",
       "\n",
       "    .dataframe thead th {\n",
       "        text-align: right;\n",
       "    }\n",
       "</style>\n",
       "<table border=\"1\" class=\"dataframe\">\n",
       "  <thead>\n",
       "    <tr style=\"text-align: right;\">\n",
       "      <th></th>\n",
       "      <th>cmpd_chembl_id</th>\n",
       "      <th>canonical_smiles</th>\n",
       "      <th>value</th>\n",
       "      <th>molFromSmiles</th>\n",
       "    </tr>\n",
       "  </thead>\n",
       "  <tbody>\n",
       "    <tr>\n",
       "      <th>0</th>\n",
       "      <td>CHEMBL356626</td>\n",
       "      <td>CCCOCc1ccc2c(c1)c3c4CNC(=O)c4c5c(Cc6ccccc56)c3...</td>\n",
       "      <td>7.890</td>\n",
       "      <td>&lt;rdkit.Chem.rdchem.Mol object at 0x000001DCC39...</td>\n",
       "    </tr>\n",
       "    <tr>\n",
       "      <th>1</th>\n",
       "      <td>CHEMBL171558</td>\n",
       "      <td>COc1cc2c(Nc3cccc4occc34)ncnc2cc1OCCCN5CCOCC5</td>\n",
       "      <td>6.600</td>\n",
       "      <td>&lt;rdkit.Chem.rdchem.Mol object at 0x000001DCC39...</td>\n",
       "    </tr>\n",
       "    <tr>\n",
       "      <th>2</th>\n",
       "      <td>CHEMBL221053</td>\n",
       "      <td>CCc1cccc(NC(=O)Nc2ccc(cc2)c3cccc4[nH]nc(N)c34)c1</td>\n",
       "      <td>8.220</td>\n",
       "      <td>&lt;rdkit.Chem.rdchem.Mol object at 0x000001DCC39...</td>\n",
       "    </tr>\n",
       "    <tr>\n",
       "      <th>3</th>\n",
       "      <td>CHEMBL3754450</td>\n",
       "      <td>COc1cccc(c1)C(=O)CN2CCN(CC2)c3nnc(c4ccccc4)c5c...</td>\n",
       "      <td>5.470</td>\n",
       "      <td>&lt;rdkit.Chem.rdchem.Mol object at 0x000001DCC39...</td>\n",
       "    </tr>\n",
       "    <tr>\n",
       "      <th>4</th>\n",
       "      <td>CHEMBL383255</td>\n",
       "      <td>Cn1cnc(NCc2ccncc2)c1c3oc(Nc4ccc(OC(F)(F)F)cc4)nn3</td>\n",
       "      <td>7.105</td>\n",
       "      <td>&lt;rdkit.Chem.rdchem.Mol object at 0x000001DCC39...</td>\n",
       "    </tr>\n",
       "  </tbody>\n",
       "</table>\n",
       "</div>"
      ],
      "text/plain": [
       "  cmpd_chembl_id                                   canonical_smiles  value  \\\n",
       "0   CHEMBL356626  CCCOCc1ccc2c(c1)c3c4CNC(=O)c4c5c(Cc6ccccc56)c3...  7.890   \n",
       "1   CHEMBL171558       COc1cc2c(Nc3cccc4occc34)ncnc2cc1OCCCN5CCOCC5  6.600   \n",
       "2   CHEMBL221053   CCc1cccc(NC(=O)Nc2ccc(cc2)c3cccc4[nH]nc(N)c34)c1  8.220   \n",
       "3  CHEMBL3754450  COc1cccc(c1)C(=O)CN2CCN(CC2)c3nnc(c4ccccc4)c5c...  5.470   \n",
       "4   CHEMBL383255  Cn1cnc(NCc2ccncc2)c1c3oc(Nc4ccc(OC(F)(F)F)cc4)nn3  7.105   \n",
       "\n",
       "                                       molFromSmiles  \n",
       "0  <rdkit.Chem.rdchem.Mol object at 0x000001DCC39...  \n",
       "1  <rdkit.Chem.rdchem.Mol object at 0x000001DCC39...  \n",
       "2  <rdkit.Chem.rdchem.Mol object at 0x000001DCC39...  \n",
       "3  <rdkit.Chem.rdchem.Mol object at 0x000001DCC39...  \n",
       "4  <rdkit.Chem.rdchem.Mol object at 0x000001DCC39...  "
      ]
     },
     "execution_count": 79,
     "metadata": {},
     "output_type": "execute_result"
    }
   ],
   "source": [
    "#m = Chem.MolFromSmiles(df_VEGF['canonical_smiles'][0])\n",
    "mols = [Chem.MolFromSmiles(i) for i in df_VEGF['canonical_smiles']]\n",
    "df_VEGF['molFromSmiles'] = mols\n",
    "df_VEGF.head()"
   ]
  },
  {
   "cell_type": "code",
   "execution_count": 80,
   "metadata": {},
   "outputs": [],
   "source": [
    "#df_VEGF[['cmpd_chembl_id','molFromSmiles','value']]"
   ]
  },
  {
   "cell_type": "code",
   "execution_count": 81,
   "metadata": {},
   "outputs": [
    {
     "name": "stdout",
     "output_type": "stream",
     "text": [
      "<class 'pandas.core.frame.DataFrame'>\n",
      "RangeIndex: 6715 entries, 0 to 6714\n",
      "Data columns (total 4 columns):\n",
      " #   Column            Non-Null Count  Dtype  \n",
      "---  ------            --------------  -----  \n",
      " 0   cmpd_chembl_id    6715 non-null   object \n",
      " 1   canonical_smiles  6715 non-null   object \n",
      " 2   value             6715 non-null   float64\n",
      " 3   molFromSmiles     6715 non-null   object \n",
      "dtypes: float64(1), object(3)\n",
      "memory usage: 210.0+ KB\n"
     ]
    }
   ],
   "source": [
    "df_VEGF.info(verbose=True, null_counts=True)"
   ]
  },
  {
   "cell_type": "code",
   "execution_count": 73,
   "metadata": {},
   "outputs": [],
   "source": [
    "#dir(Descriptors)\n",
    "#Descriptors.MolLogP(df_VEGF['molFromSmiles'][0])\n",
    "MolWt = [Descriptors.MolWt(i) for i in df_VEGF['molFromSmiles']]\n",
    "MolLogP = [Descriptors.MolLogP(i) for i in df_VEGF['molFromSmiles']]\n",
    "NumHAcceptors = [Descriptors.NumHAcceptors(i) for i in df_VEGF['molFromSmiles']]\n",
    "NumHDonors = [Descriptors.NumHDonors(i) for i in df_VEGF['molFromSmiles']]"
   ]
  },
  {
   "cell_type": "code",
   "execution_count": 92,
   "metadata": {},
   "outputs": [],
   "source": [
    "df_VEGF['MolWt'] = df_VEGF['molFromSmiles'].apply(Descriptors.MolWt)\n",
    "df_VEGF['MolLogP'] = df_VEGF['molFromSmiles'].apply(Descriptors.MolLogP)\n",
    "df_VEGF['NumHAcceptors'] = df_VEGF['molFromSmiles'].apply(Descriptors.NumHAcceptors)\n",
    "df_VEGF['NumHDonors'] = df_VEGF['molFromSmiles'].apply(Descriptors.NumHDonors)"
   ]
  },
  {
   "cell_type": "code",
   "execution_count": 93,
   "metadata": {},
   "outputs": [
    {
     "data": {
      "text/html": [
       "<div>\n",
       "<style scoped>\n",
       "    .dataframe tbody tr th:only-of-type {\n",
       "        vertical-align: middle;\n",
       "    }\n",
       "\n",
       "    .dataframe tbody tr th {\n",
       "        vertical-align: top;\n",
       "    }\n",
       "\n",
       "    .dataframe thead th {\n",
       "        text-align: right;\n",
       "    }\n",
       "</style>\n",
       "<table border=\"1\" class=\"dataframe\">\n",
       "  <thead>\n",
       "    <tr style=\"text-align: right;\">\n",
       "      <th></th>\n",
       "      <th>cmpd_chembl_id</th>\n",
       "      <th>canonical_smiles</th>\n",
       "      <th>value</th>\n",
       "      <th>molFromSmiles</th>\n",
       "      <th>MolWt</th>\n",
       "      <th>MolLogP</th>\n",
       "      <th>NumHAcceptors</th>\n",
       "      <th>NumHDonors</th>\n",
       "    </tr>\n",
       "  </thead>\n",
       "  <tbody>\n",
       "    <tr>\n",
       "      <th>0</th>\n",
       "      <td>CHEMBL356626</td>\n",
       "      <td>CCCOCc1ccc2c(c1)c3c4CNC(=O)c4c5c(Cc6ccccc56)c3...</td>\n",
       "      <td>7.890</td>\n",
       "      <td>&lt;rdkit.Chem.rdchem.Mol object at 0x000001DCC39...</td>\n",
       "      <td>440.543</td>\n",
       "      <td>4.9181</td>\n",
       "      <td>4</td>\n",
       "      <td>2</td>\n",
       "    </tr>\n",
       "    <tr>\n",
       "      <th>1</th>\n",
       "      <td>CHEMBL171558</td>\n",
       "      <td>COc1cc2c(Nc3cccc4occc34)ncnc2cc1OCCCN5CCOCC5</td>\n",
       "      <td>6.600</td>\n",
       "      <td>&lt;rdkit.Chem.rdchem.Mol object at 0x000001DCC39...</td>\n",
       "      <td>434.496</td>\n",
       "      <td>4.2293</td>\n",
       "      <td>8</td>\n",
       "      <td>1</td>\n",
       "    </tr>\n",
       "    <tr>\n",
       "      <th>2</th>\n",
       "      <td>CHEMBL221053</td>\n",
       "      <td>CCc1cccc(NC(=O)Nc2ccc(cc2)c3cccc4[nH]nc(N)c34)c1</td>\n",
       "      <td>8.220</td>\n",
       "      <td>&lt;rdkit.Chem.rdchem.Mol object at 0x000001DCC39...</td>\n",
       "      <td>371.444</td>\n",
       "      <td>5.0185</td>\n",
       "      <td>3</td>\n",
       "      <td>4</td>\n",
       "    </tr>\n",
       "    <tr>\n",
       "      <th>3</th>\n",
       "      <td>CHEMBL3754450</td>\n",
       "      <td>COc1cccc(c1)C(=O)CN2CCN(CC2)c3nnc(c4ccccc4)c5c...</td>\n",
       "      <td>5.470</td>\n",
       "      <td>&lt;rdkit.Chem.rdchem.Mol object at 0x000001DCC39...</td>\n",
       "      <td>438.531</td>\n",
       "      <td>4.3103</td>\n",
       "      <td>6</td>\n",
       "      <td>0</td>\n",
       "    </tr>\n",
       "    <tr>\n",
       "      <th>4</th>\n",
       "      <td>CHEMBL383255</td>\n",
       "      <td>Cn1cnc(NCc2ccncc2)c1c3oc(Nc4ccc(OC(F)(F)F)cc4)nn3</td>\n",
       "      <td>7.105</td>\n",
       "      <td>&lt;rdkit.Chem.rdchem.Mol object at 0x000001DCC39...</td>\n",
       "      <td>431.378</td>\n",
       "      <td>4.1194</td>\n",
       "      <td>9</td>\n",
       "      <td>2</td>\n",
       "    </tr>\n",
       "  </tbody>\n",
       "</table>\n",
       "</div>"
      ],
      "text/plain": [
       "  cmpd_chembl_id                                   canonical_smiles  value  \\\n",
       "0   CHEMBL356626  CCCOCc1ccc2c(c1)c3c4CNC(=O)c4c5c(Cc6ccccc56)c3...  7.890   \n",
       "1   CHEMBL171558       COc1cc2c(Nc3cccc4occc34)ncnc2cc1OCCCN5CCOCC5  6.600   \n",
       "2   CHEMBL221053   CCc1cccc(NC(=O)Nc2ccc(cc2)c3cccc4[nH]nc(N)c34)c1  8.220   \n",
       "3  CHEMBL3754450  COc1cccc(c1)C(=O)CN2CCN(CC2)c3nnc(c4ccccc4)c5c...  5.470   \n",
       "4   CHEMBL383255  Cn1cnc(NCc2ccncc2)c1c3oc(Nc4ccc(OC(F)(F)F)cc4)nn3  7.105   \n",
       "\n",
       "                                       molFromSmiles    MolWt  MolLogP  \\\n",
       "0  <rdkit.Chem.rdchem.Mol object at 0x000001DCC39...  440.543   4.9181   \n",
       "1  <rdkit.Chem.rdchem.Mol object at 0x000001DCC39...  434.496   4.2293   \n",
       "2  <rdkit.Chem.rdchem.Mol object at 0x000001DCC39...  371.444   5.0185   \n",
       "3  <rdkit.Chem.rdchem.Mol object at 0x000001DCC39...  438.531   4.3103   \n",
       "4  <rdkit.Chem.rdchem.Mol object at 0x000001DCC39...  431.378   4.1194   \n",
       "\n",
       "   NumHAcceptors  NumHDonors  \n",
       "0              4           2  \n",
       "1              8           1  \n",
       "2              3           4  \n",
       "3              6           0  \n",
       "4              9           2  "
      ]
     },
     "execution_count": 93,
     "metadata": {},
     "output_type": "execute_result"
    }
   ],
   "source": [
    "df_VEGF.head()"
   ]
  },
  {
   "cell_type": "code",
   "execution_count": 95,
   "metadata": {},
   "outputs": [
    {
     "data": {
      "text/plain": [
       "<AxesSubplot:xlabel='MolWt', ylabel='Count'>"
      ]
     },
     "execution_count": 95,
     "metadata": {},
     "output_type": "execute_result"
    },
    {
     "data": {
      "image/png": "[encoded data removed]",
      "text/plain": [
       "<Figure size 432x288 with 1 Axes>"
      ]
     },
     "metadata": {
      "needs_background": "light"
     },
     "output_type": "display_data"
    }
   ],
   "source": [
    "sns.histplot(df_VEGF.MolWt)\n",
    "#Struktura by neměla mít větší molární hmotnost než 500 g/mol."
   ]
  },
  {
   "cell_type": "code",
   "execution_count": 96,
   "metadata": {},
   "outputs": [
    {
     "data": {
      "text/plain": [
       "<AxesSubplot:xlabel='MolLogP', ylabel='Count'>"
      ]
     },
     "execution_count": 96,
     "metadata": {},
     "output_type": "execute_result"
    },
    {
     "data": {
      "image/png": "[encoded data removed]",
      "text/plain": [
       "<Figure size 432x288 with 1 Axes>"
      ]
     },
     "metadata": {
      "needs_background": "light"
     },
     "output_type": "display_data"
    }
   ],
   "source": [
    "sns.histplot(df_VEGF.MolLogP)\n",
    "#Struktura by měla mít log P menší než 5"
   ]
  },
  {
   "cell_type": "code",
   "execution_count": 97,
   "metadata": {},
   "outputs": [
    {
     "data": {
      "text/plain": [
       "<AxesSubplot:xlabel='NumHAcceptors', ylabel='Count'>"
      ]
     },
     "execution_count": 97,
     "metadata": {},
     "output_type": "execute_result"
    },
    {
     "data": {
      "image/png": "[encoded data removed]",
      "text/plain": [
       "<Figure size 432x288 with 1 Axes>"
      ]
     },
     "metadata": {
      "needs_background": "light"
     },
     "output_type": "display_data"
    }
   ],
   "source": [
    "sns.histplot(df_VEGF.NumHAcceptors)\n",
    "#Struktura by měla obsahovat maximálně 10 akceptorů vodíkových vazeb."
   ]
  },
  {
   "cell_type": "code",
   "execution_count": 98,
   "metadata": {},
   "outputs": [
    {
     "data": {
      "text/plain": [
       "<AxesSubplot:xlabel='NumHDonors', ylabel='Count'>"
      ]
     },
     "execution_count": 98,
     "metadata": {},
     "output_type": "execute_result"
    },
    {
     "data": {
      "image/png": "[encoded data removed]",
      "text/plain": [
       "<Figure size 432x288 with 1 Axes>"
      ]
     },
     "metadata": {
      "needs_background": "light"
     },
     "output_type": "display_data"
    }
   ],
   "source": [
    "sns.histplot(df_VEGF.NumHDonors)\n",
    "#Struktura by měla obsahovat maximálně 5 donorů vodíkových vazeb."
   ]
  },
  {
   "cell_type": "code",
   "execution_count": 105,
   "metadata": {},
   "outputs": [
    {
     "data": {
      "text/plain": [
       "array([[<AxesSubplot:title={'center':'NumHDonors'}>,\n",
       "        <AxesSubplot:title={'center':'NumHAcceptors'}>],\n",
       "       [<AxesSubplot:title={'center':'MolLogP'}>,\n",
       "        <AxesSubplot:title={'center':'MolWt'}>]], dtype=object)"
      ]
     },
     "execution_count": 105,
     "metadata": {},
     "output_type": "execute_result"
    },
    {
     "data": {
      "image/png": "[encoded data removed]",
      "text/plain": [
       "<Figure size 720x720 with 4 Axes>"
      ]
     },
     "metadata": {
      "needs_background": "light"
     },
     "output_type": "display_data"
    }
   ],
   "source": [
    "df_VEGF[[\"NumHDonors\",\"NumHAcceptors\",\"MolLogP\",\"MolWt\"]].hist(figsize=(10,10))"
   ]
  },
  {
   "cell_type": "code",
   "execution_count": null,
   "metadata": {},
   "outputs": [],
   "source": [
    "df_VEGF[\"lipin\"]=0"
   ]
  },
  {
   "cell_type": "code",
   "execution_count": 146,
   "metadata": {},
   "outputs": [],
   "source": [
    "def lipin(NumHD, NumHA, MolLogP, MolWt):\n",
    "    s = sum([NumHD<=5, NumHA<=10, MolLogP<=5, MolWt<=500])\n",
    "    return s>2"
   ]
  },
  {
   "cell_type": "code",
   "execution_count": 155,
   "metadata": {},
   "outputs": [],
   "source": [
    "df_VEGF['lipin'] = [lipin(*r) for i,r in df_VEGF[[\"NumHDonors\",\"NumHAcceptors\",\"MolLogP\",\"MolWt\"]].iterrows()]"
   ]
  },
  {
   "cell_type": "code",
   "execution_count": 149,
   "metadata": {},
   "outputs": [
    {
     "data": {
      "text/plain": [
       "True"
      ]
     },
     "execution_count": 149,
     "metadata": {},
     "output_type": "execute_result"
    }
   ],
   "source": [
    "lipin(d.iloc[0][0],d.iloc[0][1],d.iloc[0][1],d.iloc[0][1])"
   ]
  },
  {
   "cell_type": "code",
   "execution_count": 158,
   "metadata": {},
   "outputs": [
    {
     "data": {
      "text/plain": [
       "0       True\n",
       "1       True\n",
       "2       True\n",
       "3       True\n",
       "4       True\n",
       "        ... \n",
       "6710    True\n",
       "6711    True\n",
       "6712    True\n",
       "6713    True\n",
       "6714    True\n",
       "Name: lipin, Length: 6715, dtype: bool"
      ]
     },
     "execution_count": 158,
     "metadata": {},
     "output_type": "execute_result"
    }
   ],
   "source": [
    "df_VEGF['lipin'] "
   ]
  },
  {
   "cell_type": "code",
   "execution_count": 160,
   "metadata": {},
   "outputs": [
    {
     "data": {
      "text/plain": [
       "True     5510\n",
       "False    1205\n",
       "Name: lipin, dtype: int64"
      ]
     },
     "execution_count": 160,
     "metadata": {},
     "output_type": "execute_result"
    }
   ],
   "source": [
    "df_VEGF['lipin'].value_counts()"
   ]
  },
  {
   "cell_type": "code",
   "execution_count": 157,
   "metadata": {},
   "outputs": [
    {
     "name": "stderr",
     "output_type": "stream",
     "text": [
      "<string>:6: RuntimeWarning: Converting input from bool to <class 'numpy.uint8'> for compatibility.\n",
      "<string>:6: RuntimeWarning: Converting input from bool to <class 'numpy.uint8'> for compatibility.\n"
     ]
    },
    {
     "data": {
      "text/plain": [
       "<AxesSubplot:xlabel='lipin', ylabel='Count'>"
      ]
     },
     "execution_count": 157,
     "metadata": {},
     "output_type": "execute_result"
    },
    {
     "data": {
      "image/png": "[encoded data removed]",
      "text/plain": [
       "<Figure size 432x288 with 1 Axes>"
      ]
     },
     "metadata": {
      "needs_background": "light"
     },
     "output_type": "display_data"
    }
   ],
   "source": [
    "sns.histplot(df_VEGF.lipin)"
   ]
  },
  {
   "cell_type": "code",
   "execution_count": null,
   "metadata": {},
   "outputs": [],
   "source": []
  },
  {
   "cell_type": "code",
   "execution_count": null,
   "metadata": {},
   "outputs": [],
   "source": []
  },
  {
   "cell_type": "code",
   "execution_count": null,
   "metadata": {},
   "outputs": [],
   "source": []
  },
  {
   "cell_type": "code",
   "execution_count": null,
   "metadata": {},
   "outputs": [],
   "source": []
  },
  {
   "cell_type": "code",
   "execution_count": null,
   "metadata": {},
   "outputs": [],
   "source": []
  },
  {
   "cell_type": "markdown",
   "metadata": {},
   "source": [
    "# CB2"
   ]
  },
  {
   "cell_type": "code",
   "execution_count": 82,
   "metadata": {},
   "outputs": [
    {
     "data": {
      "text/html": [
       "<div>\n",
       "<style scoped>\n",
       "    .dataframe tbody tr th:only-of-type {\n",
       "        vertical-align: middle;\n",
       "    }\n",
       "\n",
       "    .dataframe tbody tr th {\n",
       "        vertical-align: top;\n",
       "    }\n",
       "\n",
       "    .dataframe thead th {\n",
       "        text-align: right;\n",
       "    }\n",
       "</style>\n",
       "<table border=\"1\" class=\"dataframe\">\n",
       "  <thead>\n",
       "    <tr style=\"text-align: right;\">\n",
       "      <th></th>\n",
       "      <th>Molecule ChEMBL ID</th>\n",
       "      <th>Molecular Weight</th>\n",
       "      <th>Smiles</th>\n",
       "      <th>Assay ChEMBL ID</th>\n",
       "    </tr>\n",
       "  </thead>\n",
       "  <tbody>\n",
       "    <tr>\n",
       "      <th>0</th>\n",
       "      <td>CHEMBL466823</td>\n",
       "      <td>358.87</td>\n",
       "      <td>Cc1cnc(NC(=O)C(C)(C)S(=O)(=O)c2ccc(Cl)cc2)s1</td>\n",
       "      <td>CHEMBL1021556</td>\n",
       "    </tr>\n",
       "    <tr>\n",
       "      <th>1</th>\n",
       "      <td>CHEMBL454813</td>\n",
       "      <td>351.86</td>\n",
       "      <td>CC(C)(C(=O)NCc1ccccc1)S(=O)(=O)c1ccc(Cl)cc1</td>\n",
       "      <td>CHEMBL1021556</td>\n",
       "    </tr>\n",
       "    <tr>\n",
       "      <th>2</th>\n",
       "      <td>CHEMBL511233</td>\n",
       "      <td>388.88</td>\n",
       "      <td>CC(C)(C(=O)Nc1cnc2ccccc2c1)S(=O)(=O)c1ccc(Cl)cc1</td>\n",
       "      <td>CHEMBL1021557</td>\n",
       "    </tr>\n",
       "    <tr>\n",
       "      <th>3</th>\n",
       "      <td>CHEMBL512591</td>\n",
       "      <td>422.43</td>\n",
       "      <td>CC(C)(C(=O)Nc1cnc2ccccc2c1)S(=O)(=O)c1ccc(C(F)...</td>\n",
       "      <td>CHEMBL1021560</td>\n",
       "    </tr>\n",
       "    <tr>\n",
       "      <th>4</th>\n",
       "      <td>CHEMBL511233</td>\n",
       "      <td>388.88</td>\n",
       "      <td>CC(C)(C(=O)Nc1cnc2ccccc2c1)S(=O)(=O)c1ccc(Cl)cc1</td>\n",
       "      <td>CHEMBL1021560</td>\n",
       "    </tr>\n",
       "  </tbody>\n",
       "</table>\n",
       "</div>"
      ],
      "text/plain": [
       "  Molecule ChEMBL ID Molecular Weight  \\\n",
       "0       CHEMBL466823           358.87   \n",
       "1       CHEMBL454813           351.86   \n",
       "2       CHEMBL511233           388.88   \n",
       "3       CHEMBL512591           422.43   \n",
       "4       CHEMBL511233           388.88   \n",
       "\n",
       "                                              Smiles Assay ChEMBL ID  \n",
       "0       Cc1cnc(NC(=O)C(C)(C)S(=O)(=O)c2ccc(Cl)cc2)s1   CHEMBL1021556  \n",
       "1        CC(C)(C(=O)NCc1ccccc1)S(=O)(=O)c1ccc(Cl)cc1   CHEMBL1021556  \n",
       "2   CC(C)(C(=O)Nc1cnc2ccccc2c1)S(=O)(=O)c1ccc(Cl)cc1   CHEMBL1021557  \n",
       "3  CC(C)(C(=O)Nc1cnc2ccccc2c1)S(=O)(=O)c1ccc(C(F)...   CHEMBL1021560  \n",
       "4   CC(C)(C(=O)Nc1cnc2ccccc2c1)S(=O)(=O)c1ccc(Cl)cc1   CHEMBL1021560  "
      ]
     },
     "execution_count": 82,
     "metadata": {},
     "output_type": "execute_result"
    }
   ],
   "source": [
    "df_CB2 = pd.read_csv('CB2.csv',delimiter=\";\")\n",
    "df_CB2 = df_CB2.drop(['Standard Relation','Properties','Document Year','Document Journal','Assay Variant Accession',\n",
    "                      'Source Description','Assay Variant Mutation','Data Validity Comment','Assay Parameters',\n",
    "                     'Molecule Name','Comment','Ligand Efficiency BEI','Ligand Efficiency LE','Ligand Efficiency LLE',\n",
    "                     'Ligand Efficiency SEI','Assay Subcellular Fraction','Assay Tissue Name','Assay Tissue ChEMBL ID',\n",
    "                     'Target Type','BAO Format ID','BAO Label','Molecule Max Phase','#RO5 Violations','Assay Organism',\n",
    "                     'Standard Value','Standard Units','pChEMBL Value','Uo Units','Assay Cell Type','Assay Type',\n",
    "                     'Target Organism','Standard Type','Target ChEMBL ID','Target Name','Cell ChEMBL ID','Source ID',\n",
    "                     'Potential Duplicate','Compound Key','AlogP','Document ChEMBL ID','Assay Description'], axis=1)\n",
    "df_CB2.head()"
   ]
  },
  {
   "cell_type": "code",
   "execution_count": 87,
   "metadata": {},
   "outputs": [
    {
     "ename": "TypeError",
     "evalue": "No registered converter was able to produce a C++ rvalue of type class std::basic_string<wchar_t,struct std::char_traits<wchar_t>,class std::allocator<wchar_t> > from this Python object of type float",
     "output_type": "error",
     "traceback": [
      "\u001b[1;31m---------------------------------------------------------------------------\u001b[0m",
      "\u001b[1;31mTypeError\u001b[0m                                 Traceback (most recent call last)",
      "\u001b[1;32m<ipython-input-87-3ad8ae645766>\u001b[0m in \u001b[0;36m<module>\u001b[1;34m\u001b[0m\n\u001b[1;32m----> 1\u001b[1;33m \u001b[0mm\u001b[0m \u001b[1;33m=\u001b[0m \u001b[1;33m[\u001b[0m\u001b[0mChem\u001b[0m\u001b[1;33m.\u001b[0m\u001b[0mMolFromSmiles\u001b[0m\u001b[1;33m(\u001b[0m\u001b[0mi\u001b[0m\u001b[1;33m)\u001b[0m \u001b[1;32mfor\u001b[0m \u001b[0mi\u001b[0m \u001b[1;32min\u001b[0m \u001b[0mdf_CB2\u001b[0m\u001b[1;33m[\u001b[0m\u001b[1;34m'Smiles'\u001b[0m\u001b[1;33m]\u001b[0m\u001b[1;33m]\u001b[0m\u001b[1;33m\u001b[0m\u001b[1;33m\u001b[0m\u001b[0m\n\u001b[0m",
      "\u001b[1;32m<ipython-input-87-3ad8ae645766>\u001b[0m in \u001b[0;36m<listcomp>\u001b[1;34m(.0)\u001b[0m\n\u001b[1;32m----> 1\u001b[1;33m \u001b[0mm\u001b[0m \u001b[1;33m=\u001b[0m \u001b[1;33m[\u001b[0m\u001b[0mChem\u001b[0m\u001b[1;33m.\u001b[0m\u001b[0mMolFromSmiles\u001b[0m\u001b[1;33m(\u001b[0m\u001b[0mi\u001b[0m\u001b[1;33m)\u001b[0m \u001b[1;32mfor\u001b[0m \u001b[0mi\u001b[0m \u001b[1;32min\u001b[0m \u001b[0mdf_CB2\u001b[0m\u001b[1;33m[\u001b[0m\u001b[1;34m'Smiles'\u001b[0m\u001b[1;33m]\u001b[0m\u001b[1;33m]\u001b[0m\u001b[1;33m\u001b[0m\u001b[1;33m\u001b[0m\u001b[0m\n\u001b[0m",
      "\u001b[1;31mTypeError\u001b[0m: No registered converter was able to produce a C++ rvalue of type class std::basic_string<wchar_t,struct std::char_traits<wchar_t>,class std::allocator<wchar_t> > from this Python object of type float"
     ]
    }
   ],
   "source": [
    "m = [Chem.MolFromSmiles(i) for i in df_CB2['Smiles']]"
   ]
  },
  {
   "cell_type": "code",
   "execution_count": null,
   "metadata": {},
   "outputs": [],
   "source": [
    "df_CB2['mol'] = m\n",
    "df_CB2.head()"
   ]
  },
  {
   "cell_type": "code",
   "execution_count": 88,
   "metadata": {},
   "outputs": [],
   "source": [
    "df_CB2['Smiles'] = df_CB2['molFromSmiles'].apply(Descriptors.MolWt)"
   ]
  },
  {
   "cell_type": "code",
   "execution_count": null,
   "metadata": {},
   "outputs": [],
   "source": []
  }
 ],
 "metadata": {
  "kernelspec": {
   "display_name": "Python 3",
   "language": "python",
   "name": "python3"
  },
  "language_info": {
   "codemirror_mode": {
    "name": "ipython",
    "version": 3
   },
   "file_extension": ".py",
   "mimetype": "text/x-python",
   "name": "python",
   "nbconvert_exporter": "python",
   "pygments_lexer": "ipython3",
   "version": "3.6.12"
  }
 },
 "nbformat": 4,
 "nbformat_minor": 4
}
