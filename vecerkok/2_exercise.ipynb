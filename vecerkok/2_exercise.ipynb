{
 "cells": [
  {
   "cell_type": "code",
   "execution_count": 91,
   "id": "1e0c149c",
   "metadata": {},
   "outputs": [],
   "source": [
    "import pandas as pd\n",
    "from rdkit import Chem\n",
    "from rdkit.Chem.Draw import IPythonConsole\n",
    "from rdkit.Chem import Descriptors\n",
    "import numpy as np"
   ]
  },
  {
   "cell_type": "code",
   "execution_count": 78,
   "id": "1652d78d",
   "metadata": {},
   "outputs": [],
   "source": [
    "data = pd.read_csv(\"data/chembl_Vasopressin_V1a_receptor_KI.csv\", delimiter = \";\")"
   ]
  },
  {
   "cell_type": "code",
   "execution_count": 79,
   "id": "e6e59767",
   "metadata": {},
   "outputs": [
    {
     "data": {
      "text/html": [
       "<div>\n",
       "<style scoped>\n",
       "    .dataframe tbody tr th:only-of-type {\n",
       "        vertical-align: middle;\n",
       "    }\n",
       "\n",
       "    .dataframe tbody tr th {\n",
       "        vertical-align: top;\n",
       "    }\n",
       "\n",
       "    .dataframe thead th {\n",
       "        text-align: right;\n",
       "    }\n",
       "</style>\n",
       "<table border=\"1\" class=\"dataframe\">\n",
       "  <thead>\n",
       "    <tr style=\"text-align: right;\">\n",
       "      <th></th>\n",
       "      <th>Molecule ChEMBL ID</th>\n",
       "      <th>Molecule Name</th>\n",
       "      <th>Molecule Max Phase</th>\n",
       "      <th>Molecular Weight</th>\n",
       "      <th>#RO5 Violations</th>\n",
       "      <th>AlogP</th>\n",
       "      <th>Compound Key</th>\n",
       "      <th>Smiles</th>\n",
       "      <th>Standard Type</th>\n",
       "      <th>Standard Relation</th>\n",
       "      <th>...</th>\n",
       "      <th>Target Name</th>\n",
       "      <th>Target Organism</th>\n",
       "      <th>Target Type</th>\n",
       "      <th>Document ChEMBL ID</th>\n",
       "      <th>Source ID</th>\n",
       "      <th>Source Description</th>\n",
       "      <th>Document Journal</th>\n",
       "      <th>Document Year</th>\n",
       "      <th>Cell ChEMBL ID</th>\n",
       "      <th>Properties</th>\n",
       "    </tr>\n",
       "  </thead>\n",
       "  <tbody>\n",
       "    <tr>\n",
       "      <th>0</th>\n",
       "      <td>CHEMBL1085301</td>\n",
       "      <td>NaN</td>\n",
       "      <td>0</td>\n",
       "      <td>403.52</td>\n",
       "      <td>1</td>\n",
       "      <td>6.15</td>\n",
       "      <td>13a</td>\n",
       "      <td>COc1cc(C(=O)N2C[C@]3(C)C[C@H]2CC(C)(C)C3)ccc1-...</td>\n",
       "      <td>Ki</td>\n",
       "      <td>'='</td>\n",
       "      <td>...</td>\n",
       "      <td>Vasopressin V1a receptor</td>\n",
       "      <td>Homo sapiens</td>\n",
       "      <td>SINGLE PROTEIN</td>\n",
       "      <td>CHEMBL1155536</td>\n",
       "      <td>1</td>\n",
       "      <td>Scientific Literature</td>\n",
       "      <td>Bioorg. Med. Chem. Lett.</td>\n",
       "      <td>2010.0</td>\n",
       "      <td>None</td>\n",
       "      <td>NaN</td>\n",
       "    </tr>\n",
       "    <tr>\n",
       "      <th>1</th>\n",
       "      <td>CHEMBL1084008</td>\n",
       "      <td>NaN</td>\n",
       "      <td>0</td>\n",
       "      <td>402.54</td>\n",
       "      <td>1</td>\n",
       "      <td>5.88</td>\n",
       "      <td>13f</td>\n",
       "      <td>COc1cc(C(=O)N2C[C@]3(C)C[C@H]2CC(C)(C)C3)ccc1-...</td>\n",
       "      <td>Ki</td>\n",
       "      <td>'='</td>\n",
       "      <td>...</td>\n",
       "      <td>Vasopressin V1a receptor</td>\n",
       "      <td>Homo sapiens</td>\n",
       "      <td>SINGLE PROTEIN</td>\n",
       "      <td>CHEMBL1155536</td>\n",
       "      <td>1</td>\n",
       "      <td>Scientific Literature</td>\n",
       "      <td>Bioorg. Med. Chem. Lett.</td>\n",
       "      <td>2010.0</td>\n",
       "      <td>None</td>\n",
       "      <td>NaN</td>\n",
       "    </tr>\n",
       "    <tr>\n",
       "      <th>2</th>\n",
       "      <td>CHEMBL4173250</td>\n",
       "      <td>NaN</td>\n",
       "      <td>0</td>\n",
       "      <td>524.63</td>\n",
       "      <td>1</td>\n",
       "      <td>3.99</td>\n",
       "      <td>3c</td>\n",
       "      <td>Cn1ncc2c1Nc1ccccc1N(C(=O)Cc1ccc(N3CCN(Cc4cc(O)...</td>\n",
       "      <td>Ki</td>\n",
       "      <td>'='</td>\n",
       "      <td>...</td>\n",
       "      <td>Vasopressin V1a receptor</td>\n",
       "      <td>Homo sapiens</td>\n",
       "      <td>SINGLE PROTEIN</td>\n",
       "      <td>CHEMBL4138154</td>\n",
       "      <td>1</td>\n",
       "      <td>Scientific Literature</td>\n",
       "      <td>Eur J Med Chem</td>\n",
       "      <td>2018.0</td>\n",
       "      <td>None</td>\n",
       "      <td>NaN</td>\n",
       "    </tr>\n",
       "    <tr>\n",
       "      <th>3</th>\n",
       "      <td>CHEMBL382301</td>\n",
       "      <td>ATOSIBAN</td>\n",
       "      <td>4</td>\n",
       "      <td>994.21</td>\n",
       "      <td>3</td>\n",
       "      <td>-3.04</td>\n",
       "      <td>Atosiban</td>\n",
       "      <td>CCOc1ccc(C[C@H]2NC(=O)CCSSC[C@@H](C(=O)N3CCC[C...</td>\n",
       "      <td>Ki</td>\n",
       "      <td>'='</td>\n",
       "      <td>...</td>\n",
       "      <td>Vasopressin V1a receptor</td>\n",
       "      <td>Homo sapiens</td>\n",
       "      <td>SINGLE PROTEIN</td>\n",
       "      <td>CHEMBL1142309</td>\n",
       "      <td>1</td>\n",
       "      <td>Scientific Literature</td>\n",
       "      <td>Bioorg. Med. Chem. Lett.</td>\n",
       "      <td>2008.0</td>\n",
       "      <td>None</td>\n",
       "      <td>NaN</td>\n",
       "    </tr>\n",
       "    <tr>\n",
       "      <th>4</th>\n",
       "      <td>CHEMBL1085299</td>\n",
       "      <td>NaN</td>\n",
       "      <td>0</td>\n",
       "      <td>377.53</td>\n",
       "      <td>1</td>\n",
       "      <td>5.71</td>\n",
       "      <td>12k</td>\n",
       "      <td>COc1cc(C(=O)N2C[C@]3(C)C[C@H]2CC(C)(C)C3)ccc1-...</td>\n",
       "      <td>Ki</td>\n",
       "      <td>'='</td>\n",
       "      <td>...</td>\n",
       "      <td>Vasopressin V1a receptor</td>\n",
       "      <td>Homo sapiens</td>\n",
       "      <td>SINGLE PROTEIN</td>\n",
       "      <td>CHEMBL1155536</td>\n",
       "      <td>1</td>\n",
       "      <td>Scientific Literature</td>\n",
       "      <td>Bioorg. Med. Chem. Lett.</td>\n",
       "      <td>2010.0</td>\n",
       "      <td>None</td>\n",
       "      <td>NaN</td>\n",
       "    </tr>\n",
       "  </tbody>\n",
       "</table>\n",
       "<p>5 rows × 45 columns</p>\n",
       "</div>"
      ],
      "text/plain": [
       "  Molecule ChEMBL ID Molecule Name  Molecule Max Phase Molecular Weight  \\\n",
       "0      CHEMBL1085301           NaN                   0           403.52   \n",
       "1      CHEMBL1084008           NaN                   0           402.54   \n",
       "2      CHEMBL4173250           NaN                   0           524.63   \n",
       "3       CHEMBL382301      ATOSIBAN                   4           994.21   \n",
       "4      CHEMBL1085299           NaN                   0           377.53   \n",
       "\n",
       "  #RO5 Violations  AlogP Compound Key  \\\n",
       "0               1   6.15          13a   \n",
       "1               1   5.88          13f   \n",
       "2               1   3.99           3c   \n",
       "3               3  -3.04     Atosiban   \n",
       "4               1   5.71          12k   \n",
       "\n",
       "                                              Smiles Standard Type  \\\n",
       "0  COc1cc(C(=O)N2C[C@]3(C)C[C@H]2CC(C)(C)C3)ccc1-...            Ki   \n",
       "1  COc1cc(C(=O)N2C[C@]3(C)C[C@H]2CC(C)(C)C3)ccc1-...            Ki   \n",
       "2  Cn1ncc2c1Nc1ccccc1N(C(=O)Cc1ccc(N3CCN(Cc4cc(O)...            Ki   \n",
       "3  CCOc1ccc(C[C@H]2NC(=O)CCSSC[C@@H](C(=O)N3CCC[C...            Ki   \n",
       "4  COc1cc(C(=O)N2C[C@]3(C)C[C@H]2CC(C)(C)C3)ccc1-...            Ki   \n",
       "\n",
       "  Standard Relation  ...               Target Name Target Organism  \\\n",
       "0               '='  ...  Vasopressin V1a receptor    Homo sapiens   \n",
       "1               '='  ...  Vasopressin V1a receptor    Homo sapiens   \n",
       "2               '='  ...  Vasopressin V1a receptor    Homo sapiens   \n",
       "3               '='  ...  Vasopressin V1a receptor    Homo sapiens   \n",
       "4               '='  ...  Vasopressin V1a receptor    Homo sapiens   \n",
       "\n",
       "      Target Type Document ChEMBL ID Source ID     Source Description  \\\n",
       "0  SINGLE PROTEIN      CHEMBL1155536         1  Scientific Literature   \n",
       "1  SINGLE PROTEIN      CHEMBL1155536         1  Scientific Literature   \n",
       "2  SINGLE PROTEIN      CHEMBL4138154         1  Scientific Literature   \n",
       "3  SINGLE PROTEIN      CHEMBL1142309         1  Scientific Literature   \n",
       "4  SINGLE PROTEIN      CHEMBL1155536         1  Scientific Literature   \n",
       "\n",
       "           Document Journal Document Year Cell ChEMBL ID Properties  \n",
       "0  Bioorg. Med. Chem. Lett.        2010.0           None        NaN  \n",
       "1  Bioorg. Med. Chem. Lett.        2010.0           None        NaN  \n",
       "2            Eur J Med Chem        2018.0           None        NaN  \n",
       "3  Bioorg. Med. Chem. Lett.        2008.0           None        NaN  \n",
       "4  Bioorg. Med. Chem. Lett.        2010.0           None        NaN  \n",
       "\n",
       "[5 rows x 45 columns]"
      ]
     },
     "execution_count": 79,
     "metadata": {},
     "output_type": "execute_result"
    }
   ],
   "source": [
    "data.head()"
   ]
  },
  {
   "cell_type": "code",
   "execution_count": 80,
   "id": "f050af8a",
   "metadata": {},
   "outputs": [
    {
     "data": {
      "text/plain": [
       "0       COc1cc(C(=O)N2C[C@]3(C)C[C@H]2CC(C)(C)C3)ccc1-...\n",
       "1       COc1cc(C(=O)N2C[C@]3(C)C[C@H]2CC(C)(C)C3)ccc1-...\n",
       "2       Cn1ncc2c1Nc1ccccc1N(C(=O)Cc1ccc(N3CCN(Cc4cc(O)...\n",
       "3       CCOc1ccc(C[C@H]2NC(=O)CCSSC[C@@H](C(=O)N3CCC[C...\n",
       "4       COc1cc(C(=O)N2C[C@]3(C)C[C@H]2CC(C)(C)C3)ccc1-...\n",
       "                              ...                        \n",
       "1712               O=S(=O)(Nc1ccnn1-c1ccccn1)c1ccc(Cl)cc1\n",
       "1713    CC[C@H](C)[C@@H]1NC(=O)[C@H](Cc2ccc(O)cc2)NC(=...\n",
       "1714    CC[C@H](C)[C@@H]1NC(=O)[C@H](Cc2ccc(O)cc2)NC(=...\n",
       "1715    COc1ccc(S(=O)(=O)N2c3ccc(Cl)cc3[C@](O)(c3ccccc...\n",
       "1716    CC[C@H](C)[C@@H]1NC(=O)[C@H](Cc2ccc(O)cc2)NC(=...\n",
       "Name: Smiles, Length: 1717, dtype: object"
      ]
     },
     "execution_count": 80,
     "metadata": {},
     "output_type": "execute_result"
    }
   ],
   "source": [
    "data[\"Smiles\"]"
   ]
  },
  {
   "cell_type": "code",
   "execution_count": 81,
   "id": "01ecf76a",
   "metadata": {},
   "outputs": [
    {
     "data": {
      "image/png": "[encoded data removed]",
      "text/plain": [
       "<rdkit.Chem.rdchem.Mol at 0x7fcec44113f0>"
      ]
     },
     "execution_count": 81,
     "metadata": {},
     "output_type": "execute_result"
    }
   ],
   "source": [
    "Chem.MolFromSmiles(data.loc[0, 'Smiles'])"
   ]
  },
  {
   "cell_type": "code",
   "execution_count": 82,
   "id": "54a3e515",
   "metadata": {},
   "outputs": [],
   "source": [
    "smiles = data[\"Smiles\"]\n",
    "# smiles.dropna(inplace=True)\n",
    "smiles.fillna(\"\", inplace = True)"
   ]
  },
  {
   "cell_type": "code",
   "execution_count": 83,
   "id": "524fa1be",
   "metadata": {},
   "outputs": [],
   "source": [
    "molecules = [Chem.MolFromSmiles(smile) for smile in smiles]"
   ]
  },
  {
   "cell_type": "code",
   "execution_count": 84,
   "id": "d525afc4",
   "metadata": {},
   "outputs": [
    {
     "data": {
      "text/plain": [
       "[<rdkit.Chem.rdchem.Mol at 0x7fcec440bdf0>,\n",
       " <rdkit.Chem.rdchem.Mol at 0x7fcec440bc60>,\n",
       " <rdkit.Chem.rdchem.Mol at 0x7fcec440b620>,\n",
       " <rdkit.Chem.rdchem.Mol at 0x7fcec440b210>,\n",
       " <rdkit.Chem.rdchem.Mol at 0x7fcec440bda0>]"
      ]
     },
     "execution_count": 84,
     "metadata": {},
     "output_type": "execute_result"
    }
   ],
   "source": [
    "molecules[:5]"
   ]
  },
  {
   "cell_type": "code",
   "execution_count": 87,
   "id": "ab89b51a",
   "metadata": {},
   "outputs": [],
   "source": [
    "data[\"rdkit\"] = molecules"
   ]
  },
  {
   "cell_type": "code",
   "execution_count": 90,
   "id": "61b730b0",
   "metadata": {},
   "outputs": [],
   "source": [
    "data[\"molecular_weight\"] = data[\"rdkit\"].apply(Descriptors.MolWt)"
   ]
  },
  {
   "cell_type": "code",
   "execution_count": 93,
   "id": "b72f35de",
   "metadata": {},
   "outputs": [],
   "source": [
    "data[\"mol_logP\"] = data[\"rdkit\"].apply(Descriptors.MolLogP)"
   ]
  },
  {
   "cell_type": "code",
   "execution_count": 94,
   "id": "20922319",
   "metadata": {},
   "outputs": [],
   "source": [
    "data[\"numh_acceptors\"] = data[\"rdkit\"].apply(Descriptors.NumHAcceptors)"
   ]
  },
  {
   "cell_type": "code",
   "execution_count": null,
   "id": "76baee78",
   "metadata": {},
   "outputs": [],
   "source": []
  }
 ],
 "metadata": {
  "kernelspec": {
   "display_name": "Python 3 (ipykernel)",
   "language": "python",
   "name": "python3"
  },
  "language_info": {
   "codemirror_mode": {
    "name": "ipython",
    "version": 3
   },
   "file_extension": ".py",
   "mimetype": "text/x-python",
   "name": "python",
   "nbconvert_exporter": "python",
   "pygments_lexer": "ipython3",
   "version": "3.7.11"
  }
 },
 "nbformat": 4,
 "nbformat_minor": 5
}
