{
 "cells": [
  {
   "cell_type": "markdown",
   "id": "f90961fd",
   "metadata": {},
   "source": [
    "# Substructure search"
   ]
  },
  {
   "cell_type": "code",
   "execution_count": 2,
   "id": "cc26df80",
   "metadata": {
    "scrolled": true
   },
   "outputs": [],
   "source": [
    "from rdkit import Chem\n",
    "from rdkit.Chem import Draw\n",
    "from rdkit.Chem.Draw import IPythonConsole\n",
    "from rdkit.Chem.Draw import rdMolDraw2D\n",
    "from IPython.display import SVG\n",
    "import itertools\n",
    "from rdkit.Chem import rdmolops\n",
    "import pandas as pd\n",
    "import numpy as np"
   ]
  },
  {
   "cell_type": "code",
   "execution_count": 3,
   "id": "cf2cb5b4",
   "metadata": {
    "scrolled": true
   },
   "outputs": [],
   "source": [
    "molecule = Chem.MolFromSmiles(\"O1C=C[C@H]([C@H]1O2)c3c2cc(OC)c4c3OC(=O)C5=C4CCC(=O)5\")"
   ]
  },
  {
   "cell_type": "code",
   "execution_count": 4,
   "id": "488a6c19",
   "metadata": {
    "scrolled": true
   },
   "outputs": [],
   "source": [
    "benzen = Chem.MolFromSmiles(\"c1ccccc1\")"
   ]
  },
  {
   "cell_type": "code",
   "execution_count": 5,
   "id": "dcae294a",
   "metadata": {
    "scrolled": true
   },
   "outputs": [
    {
     "data": {
      "text/plain": [
       "True"
      ]
     },
     "execution_count": 5,
     "metadata": {},
     "output_type": "execute_result"
    }
   ],
   "source": [
    "molecule.HasSubstructMatch(benzen)"
   ]
  },
  {
   "cell_type": "code",
   "execution_count": 6,
   "id": "29a9d0b2",
   "metadata": {
    "scrolled": true
   },
   "outputs": [
    {
     "data": {
      "text/plain": [
       "(6, 7, 8, 9, 12, 13)"
      ]
     },
     "execution_count": 6,
     "metadata": {},
     "output_type": "execute_result"
    }
   ],
   "source": [
    "molecule.GetSubstructMatch(benzen)"
   ]
  },
  {
   "cell_type": "code",
   "execution_count": 7,
   "id": "e31dfdc8",
   "metadata": {
    "scrolled": true
   },
   "outputs": [],
   "source": [
    "hit_atoms = molecule.GetSubstructMatch(benzen)"
   ]
  },
  {
   "cell_type": "code",
   "execution_count": 8,
   "id": "20515e6a",
   "metadata": {
    "scrolled": true
   },
   "outputs": [],
   "source": [
    "hit_bonds = [molecule.GetBondBetweenAtoms(i, j).GetIdx()\n",
    "             for i, j in itertools.combinations(hit_atoms, 2)\n",
    "             if molecule.GetBondBetweenAtoms(i, j)]"
   ]
  },
  {
   "cell_type": "code",
   "execution_count": 9,
   "id": "ecce48da",
   "metadata": {
    "scrolled": true
   },
   "outputs": [
    {
     "data": {
      "text/plain": [
       "[6, 24, 7, 8, 11, 12]"
      ]
     },
     "execution_count": 9,
     "metadata": {},
     "output_type": "execute_result"
    }
   ],
   "source": [
    "hit_bonds"
   ]
  },
  {
   "cell_type": "code",
   "execution_count": 10,
   "id": "7e90e333",
   "metadata": {
    "scrolled": true
   },
   "outputs": [
    {
     "data": {
      "image/svg+xml": [
       "<svg baseProfile=\"full\" height=\"300px\" version=\"1.1\" viewBox=\"0 0 300 300\" width=\"300px\" xml:space=\"preserve\" xmlns=\"http://www.w3.org/2000/svg\" xmlns:rdkit=\"http://www.rdkit.org/xml\" xmlns:xlink=\"http://www.w3.org/1999/xlink\">\n",
       "<!-- END OF HEADER -->\n",
       "<rect height=\"300\" style=\"opacity:1.0;fill:#FFFFFF;stroke:none\" width=\"300\" x=\"0\" y=\"0\"> </rect>\n",
       "<path d=\"M 189.054,137.754 L 200.149,174.006\" style=\"fill:none;fill-rule:evenodd;stroke:#FF7F7F;stroke-width:8.1px;stroke-linecap:butt;stroke-linejoin:miter;stroke-opacity:1\"/>\n",
       "<path d=\"M 189.054,137.754 L 152.111,129.238\" style=\"fill:none;fill-rule:evenodd;stroke:#FF7F7F;stroke-width:8.1px;stroke-linecap:butt;stroke-linejoin:miter;stroke-opacity:1\"/>\n",
       "<path d=\"M 200.149,174.006 L 174.303,201.741\" style=\"fill:none;fill-rule:evenodd;stroke:#FF7F7F;stroke-width:8.1px;stroke-linecap:butt;stroke-linejoin:miter;stroke-opacity:1\"/>\n",
       "<path d=\"M 174.303,201.741 L 137.36,193.224\" style=\"fill:none;fill-rule:evenodd;stroke:#FF7F7F;stroke-width:8.1px;stroke-linecap:butt;stroke-linejoin:miter;stroke-opacity:1\"/>\n",
       "<path d=\"M 137.36,193.224 L 126.264,156.973\" style=\"fill:none;fill-rule:evenodd;stroke:#FF7F7F;stroke-width:8.1px;stroke-linecap:butt;stroke-linejoin:miter;stroke-opacity:1\"/>\n",
       "<path d=\"M 126.264,156.973 L 152.111,129.238\" style=\"fill:none;fill-rule:evenodd;stroke:#FF7F7F;stroke-width:8.1px;stroke-linecap:butt;stroke-linejoin:miter;stroke-opacity:1\"/>\n",
       "<ellipse cx=\"189.054\" cy=\"137.754\" rx=\"7.58231\" ry=\"7.58231\" style=\"fill:#FF7F7F;fill-rule:evenodd;stroke:#FF7F7F;stroke-width:1px;stroke-linecap:butt;stroke-linejoin:miter;stroke-opacity:1\"/>\n",
       "<ellipse cx=\"200.149\" cy=\"174.006\" rx=\"7.58231\" ry=\"7.58231\" style=\"fill:#FF7F7F;fill-rule:evenodd;stroke:#FF7F7F;stroke-width:1px;stroke-linecap:butt;stroke-linejoin:miter;stroke-opacity:1\"/>\n",
       "<ellipse cx=\"174.303\" cy=\"201.741\" rx=\"7.58231\" ry=\"7.58231\" style=\"fill:#FF7F7F;fill-rule:evenodd;stroke:#FF7F7F;stroke-width:1px;stroke-linecap:butt;stroke-linejoin:miter;stroke-opacity:1\"/>\n",
       "<ellipse cx=\"137.36\" cy=\"193.224\" rx=\"7.58231\" ry=\"7.58231\" style=\"fill:#FF7F7F;fill-rule:evenodd;stroke:#FF7F7F;stroke-width:1px;stroke-linecap:butt;stroke-linejoin:miter;stroke-opacity:1\"/>\n",
       "<ellipse cx=\"126.264\" cy=\"156.973\" rx=\"7.58231\" ry=\"7.58231\" style=\"fill:#FF7F7F;fill-rule:evenodd;stroke:#FF7F7F;stroke-width:1px;stroke-linecap:butt;stroke-linejoin:miter;stroke-opacity:1\"/>\n",
       "<ellipse cx=\"152.111\" cy=\"129.238\" rx=\"7.58231\" ry=\"7.58231\" style=\"fill:#FF7F7F;fill-rule:evenodd;stroke:#FF7F7F;stroke-width:1px;stroke-linecap:butt;stroke-linejoin:miter;stroke-opacity:1\"/>\n",
       "<path class=\"bond-0\" d=\"M 279.483,110.674 L 274.911,95.7362\" style=\"fill:none;fill-rule:evenodd;stroke:#FF0000;stroke-width:2.0px;stroke-linecap:butt;stroke-linejoin:miter;stroke-opacity:1\"/>\n",
       "<path class=\"bond-0\" d=\"M 274.911,95.7362 L 270.339,80.7988\" style=\"fill:none;fill-rule:evenodd;stroke:#000000;stroke-width:2.0px;stroke-linecap:butt;stroke-linejoin:miter;stroke-opacity:1\"/>\n",
       "<path class=\"bond-22\" d=\"M 275.559,121.168 L 262.973,129.987\" style=\"fill:none;fill-rule:evenodd;stroke:#FF0000;stroke-width:2.0px;stroke-linecap:butt;stroke-linejoin:miter;stroke-opacity:1\"/>\n",
       "<path class=\"bond-22\" d=\"M 262.973,129.987 L 250.387,138.805\" style=\"fill:none;fill-rule:evenodd;stroke:#000000;stroke-width:2.0px;stroke-linecap:butt;stroke-linejoin:miter;stroke-opacity:1\"/>\n",
       "<path class=\"bond-1\" d=\"M 270.339,80.7988 L 232.433,80.1492\" style=\"fill:none;fill-rule:evenodd;stroke:#000000;stroke-width:2.0px;stroke-linecap:butt;stroke-linejoin:miter;stroke-opacity:1\"/>\n",
       "<path class=\"bond-1\" d=\"M 264.524,88.2826 L 237.989,87.8279\" style=\"fill:none;fill-rule:evenodd;stroke:#000000;stroke-width:2.0px;stroke-linecap:butt;stroke-linejoin:miter;stroke-opacity:1\"/>\n",
       "<path class=\"bond-2\" d=\"M 232.433,80.1492 L 220.102,115.999\" style=\"fill:none;fill-rule:evenodd;stroke:#000000;stroke-width:2.0px;stroke-linecap:butt;stroke-linejoin:miter;stroke-opacity:1\"/>\n",
       "<path class=\"bond-3\" d=\"M 220.102,115.999 L 250.387,138.805\" style=\"fill:none;fill-rule:evenodd;stroke:#000000;stroke-width:2.0px;stroke-linecap:butt;stroke-linejoin:miter;stroke-opacity:1\"/>\n",
       "<path class=\"bond-5\" d=\"M 220.102,115.999 L 189.054,137.754\" style=\"fill:none;fill-rule:evenodd;stroke:#000000;stroke-width:2.0px;stroke-linecap:butt;stroke-linejoin:miter;stroke-opacity:1\"/>\n",
       "<path class=\"bond-27\" d=\"M 220.102,115.999 L 197.246,94.0417 L 192.685,100.099 Z\" style=\"fill:#000000;fill-rule:evenodd;fill-opacity:1;stroke:#000000;stroke-width:2px;stroke-linecap:butt;stroke-linejoin:miter;stroke-opacity:1;\"/>\n",
       "<path class=\"bond-4\" d=\"M 250.387,138.805 L 245.318,153.542\" style=\"fill:none;fill-rule:evenodd;stroke:#000000;stroke-width:2.0px;stroke-linecap:butt;stroke-linejoin:miter;stroke-opacity:1\"/>\n",
       "<path class=\"bond-4\" d=\"M 245.318,153.542 L 240.249,168.279\" style=\"fill:none;fill-rule:evenodd;stroke:#FF0000;stroke-width:2.0px;stroke-linecap:butt;stroke-linejoin:miter;stroke-opacity:1\"/>\n",
       "<path class=\"bond-28\" d=\"M 250.387,138.805 L 273.242,160.763 L 277.804,154.706 Z\" style=\"fill:#000000;fill-rule:evenodd;fill-opacity:1;stroke:#000000;stroke-width:2px;stroke-linecap:butt;stroke-linejoin:miter;stroke-opacity:1;\"/>\n",
       "<path class=\"bond-23\" d=\"M 232.179,174.555 L 216.164,174.28\" style=\"fill:none;fill-rule:evenodd;stroke:#FF0000;stroke-width:2.0px;stroke-linecap:butt;stroke-linejoin:miter;stroke-opacity:1\"/>\n",
       "<path class=\"bond-23\" d=\"M 216.164,174.28 L 200.149,174.006\" style=\"fill:none;fill-rule:evenodd;stroke:#000000;stroke-width:2.0px;stroke-linecap:butt;stroke-linejoin:miter;stroke-opacity:1\"/>\n",
       "<path class=\"bond-6\" d=\"M 189.054,137.754 L 200.149,174.006\" style=\"fill:none;fill-rule:evenodd;stroke:#000000;stroke-width:2.0px;stroke-linecap:butt;stroke-linejoin:miter;stroke-opacity:1\"/>\n",
       "<path class=\"bond-6\" d=\"M 183.468,145.411 L 191.235,170.787\" style=\"fill:none;fill-rule:evenodd;stroke:#000000;stroke-width:2.0px;stroke-linecap:butt;stroke-linejoin:miter;stroke-opacity:1\"/>\n",
       "<path class=\"bond-24\" d=\"M 189.054,137.754 L 152.111,129.238\" style=\"fill:none;fill-rule:evenodd;stroke:#000000;stroke-width:2.0px;stroke-linecap:butt;stroke-linejoin:miter;stroke-opacity:1\"/>\n",
       "<path class=\"bond-7\" d=\"M 200.149,174.006 L 174.303,201.741\" style=\"fill:none;fill-rule:evenodd;stroke:#000000;stroke-width:2.0px;stroke-linecap:butt;stroke-linejoin:miter;stroke-opacity:1\"/>\n",
       "<path class=\"bond-8\" d=\"M 174.303,201.741 L 137.36,193.224\" style=\"fill:none;fill-rule:evenodd;stroke:#000000;stroke-width:2.0px;stroke-linecap:butt;stroke-linejoin:miter;stroke-opacity:1\"/>\n",
       "<path class=\"bond-8\" d=\"M 170.464,193.075 L 144.605,187.113\" style=\"fill:none;fill-rule:evenodd;stroke:#000000;stroke-width:2.0px;stroke-linecap:butt;stroke-linejoin:miter;stroke-opacity:1\"/>\n",
       "<path class=\"bond-9\" d=\"M 137.36,193.224 L 127.375,203.939\" style=\"fill:none;fill-rule:evenodd;stroke:#000000;stroke-width:2.0px;stroke-linecap:butt;stroke-linejoin:miter;stroke-opacity:1\"/>\n",
       "<path class=\"bond-9\" d=\"M 127.375,203.939 L 117.39,214.654\" style=\"fill:none;fill-rule:evenodd;stroke:#FF0000;stroke-width:2.0px;stroke-linecap:butt;stroke-linejoin:miter;stroke-opacity:1\"/>\n",
       "<path class=\"bond-11\" d=\"M 137.36,193.224 L 126.264,156.973\" style=\"fill:none;fill-rule:evenodd;stroke:#000000;stroke-width:2.0px;stroke-linecap:butt;stroke-linejoin:miter;stroke-opacity:1\"/>\n",
       "<path class=\"bond-10\" d=\"M 113.516,227.503 L 118.063,242.357\" style=\"fill:none;fill-rule:evenodd;stroke:#FF0000;stroke-width:2.0px;stroke-linecap:butt;stroke-linejoin:miter;stroke-opacity:1\"/>\n",
       "<path class=\"bond-10\" d=\"M 118.063,242.357 L 122.609,257.211\" style=\"fill:none;fill-rule:evenodd;stroke:#000000;stroke-width:2.0px;stroke-linecap:butt;stroke-linejoin:miter;stroke-opacity:1\"/>\n",
       "<path class=\"bond-12\" d=\"M 126.264,156.973 L 152.111,129.238\" style=\"fill:none;fill-rule:evenodd;stroke:#000000;stroke-width:2.0px;stroke-linecap:butt;stroke-linejoin:miter;stroke-opacity:1\"/>\n",
       "<path class=\"bond-12\" d=\"M 135.688,157.982 L 153.781,138.567\" style=\"fill:none;fill-rule:evenodd;stroke:#000000;stroke-width:2.0px;stroke-linecap:butt;stroke-linejoin:miter;stroke-opacity:1\"/>\n",
       "<path class=\"bond-25\" d=\"M 126.264,156.973 L 89.3216,148.456\" style=\"fill:none;fill-rule:evenodd;stroke:#000000;stroke-width:2.0px;stroke-linecap:butt;stroke-linejoin:miter;stroke-opacity:1\"/>\n",
       "<path class=\"bond-13\" d=\"M 152.111,129.238 L 147.565,114.384\" style=\"fill:none;fill-rule:evenodd;stroke:#000000;stroke-width:2.0px;stroke-linecap:butt;stroke-linejoin:miter;stroke-opacity:1\"/>\n",
       "<path class=\"bond-13\" d=\"M 147.565,114.384 L 143.018,99.5298\" style=\"fill:none;fill-rule:evenodd;stroke:#FF0000;stroke-width:2.0px;stroke-linecap:butt;stroke-linejoin:miter;stroke-opacity:1\"/>\n",
       "<path class=\"bond-14\" d=\"M 135.139,91.6316 L 119.606,88.0507\" style=\"fill:none;fill-rule:evenodd;stroke:#FF0000;stroke-width:2.0px;stroke-linecap:butt;stroke-linejoin:miter;stroke-opacity:1\"/>\n",
       "<path class=\"bond-14\" d=\"M 119.606,88.0507 L 104.073,84.4698\" style=\"fill:none;fill-rule:evenodd;stroke:#000000;stroke-width:2.0px;stroke-linecap:butt;stroke-linejoin:miter;stroke-opacity:1\"/>\n",
       "<path class=\"bond-15\" d=\"M 107.698,83.3602 L 103.151,68.5063\" style=\"fill:none;fill-rule:evenodd;stroke:#000000;stroke-width:2.0px;stroke-linecap:butt;stroke-linejoin:miter;stroke-opacity:1\"/>\n",
       "<path class=\"bond-15\" d=\"M 103.151,68.5063 L 98.6049,53.6523\" style=\"fill:none;fill-rule:evenodd;stroke:#FF0000;stroke-width:2.0px;stroke-linecap:butt;stroke-linejoin:miter;stroke-opacity:1\"/>\n",
       "<path class=\"bond-15\" d=\"M 100.448,85.5794 L 95.901,70.7254\" style=\"fill:none;fill-rule:evenodd;stroke:#000000;stroke-width:2.0px;stroke-linecap:butt;stroke-linejoin:miter;stroke-opacity:1\"/>\n",
       "<path class=\"bond-15\" d=\"M 95.901,70.7254 L 91.3546,55.8715\" style=\"fill:none;fill-rule:evenodd;stroke:#FF0000;stroke-width:2.0px;stroke-linecap:butt;stroke-linejoin:miter;stroke-opacity:1\"/>\n",
       "<path class=\"bond-16\" d=\"M 104.073,84.4698 L 78.2259,112.205\" style=\"fill:none;fill-rule:evenodd;stroke:#000000;stroke-width:2.0px;stroke-linecap:butt;stroke-linejoin:miter;stroke-opacity:1\"/>\n",
       "<path class=\"bond-17\" d=\"M 78.2259,112.205 L 89.3216,148.456\" style=\"fill:none;fill-rule:evenodd;stroke:#000000;stroke-width:2.0px;stroke-linecap:butt;stroke-linejoin:miter;stroke-opacity:1\"/>\n",
       "<path class=\"bond-17\" d=\"M 87.1405,115.423 L 94.9076,140.799\" style=\"fill:none;fill-rule:evenodd;stroke:#000000;stroke-width:2.0px;stroke-linecap:butt;stroke-linejoin:miter;stroke-opacity:1\"/>\n",
       "<path class=\"bond-26\" d=\"M 78.2259,112.205 L 40.3199,111.555\" style=\"fill:none;fill-rule:evenodd;stroke:#000000;stroke-width:2.0px;stroke-linecap:butt;stroke-linejoin:miter;stroke-opacity:1\"/>\n",
       "<path class=\"bond-18\" d=\"M 89.3216,148.456 L 58.2732,170.211\" style=\"fill:none;fill-rule:evenodd;stroke:#000000;stroke-width:2.0px;stroke-linecap:butt;stroke-linejoin:miter;stroke-opacity:1\"/>\n",
       "<path class=\"bond-19\" d=\"M 58.2732,170.211 L 27.9885,147.405\" style=\"fill:none;fill-rule:evenodd;stroke:#000000;stroke-width:2.0px;stroke-linecap:butt;stroke-linejoin:miter;stroke-opacity:1\"/>\n",
       "<path class=\"bond-20\" d=\"M 27.9885,147.405 L 40.3199,111.555\" style=\"fill:none;fill-rule:evenodd;stroke:#000000;stroke-width:2.0px;stroke-linecap:butt;stroke-linejoin:miter;stroke-opacity:1\"/>\n",
       "<path class=\"bond-21\" d=\"M 43.4247,109.38 L 34.8397,97.1272\" style=\"fill:none;fill-rule:evenodd;stroke:#000000;stroke-width:2.0px;stroke-linecap:butt;stroke-linejoin:miter;stroke-opacity:1\"/>\n",
       "<path class=\"bond-21\" d=\"M 34.8397,97.1272 L 26.2546,84.8748\" style=\"fill:none;fill-rule:evenodd;stroke:#FF0000;stroke-width:2.0px;stroke-linecap:butt;stroke-linejoin:miter;stroke-opacity:1\"/>\n",
       "<path class=\"bond-21\" d=\"M 37.2151,113.731 L 28.63,101.478\" style=\"fill:none;fill-rule:evenodd;stroke:#000000;stroke-width:2.0px;stroke-linecap:butt;stroke-linejoin:miter;stroke-opacity:1\"/>\n",
       "<path class=\"bond-21\" d=\"M 28.63,101.478 L 20.045,89.2258\" style=\"fill:none;fill-rule:evenodd;stroke:#FF0000;stroke-width:2.0px;stroke-linecap:butt;stroke-linejoin:miter;stroke-opacity:1\"/>\n",
       "<path class=\"atom-0\" d=\"M 276.507 117.081 Q 276.507 114.503, 277.78 113.062 Q 279.054 111.621, 281.435 111.621 Q 283.816 111.621, 285.09 113.062 Q 286.364 114.503, 286.364 117.081 Q 286.364 119.689, 285.075 121.175 Q 283.786 122.646, 281.435 122.646 Q 279.069 122.646, 277.78 121.175 Q 276.507 119.704, 276.507 117.081 M 281.435 121.433 Q 283.073 121.433, 283.952 120.341 Q 284.847 119.234, 284.847 117.081 Q 284.847 114.973, 283.952 113.911 Q 283.073 112.835, 281.435 112.835 Q 279.797 112.835, 278.903 113.896 Q 278.023 114.958, 278.023 117.081 Q 278.023 119.249, 278.903 120.341 Q 279.797 121.433, 281.435 121.433 \" fill=\"#FF0000\"/>\n",
       "<path class=\"atom-5\" d=\"M 233.127 174.686 Q 233.127 172.108, 234.401 170.667 Q 235.674 169.226, 238.055 169.226 Q 240.436 169.226, 241.71 170.667 Q 242.984 172.108, 242.984 174.686 Q 242.984 177.294, 241.695 178.78 Q 240.406 180.251, 238.055 180.251 Q 235.69 180.251, 234.401 178.78 Q 233.127 177.309, 233.127 174.686 M 238.055 179.038 Q 239.693 179.038, 240.573 177.946 Q 241.467 176.839, 241.467 174.686 Q 241.467 172.578, 240.573 171.516 Q 239.693 170.44, 238.055 170.44 Q 236.418 170.44, 235.523 171.501 Q 234.643 172.563, 234.643 174.686 Q 234.643 176.854, 235.523 177.946 Q 236.418 179.038, 238.055 179.038 \" fill=\"#FF0000\"/>\n",
       "<path class=\"atom-10\" d=\"M 106.585 220.989 Q 106.585 218.411, 107.859 216.971 Q 109.132 215.53, 111.513 215.53 Q 113.894 215.53, 115.168 216.971 Q 116.442 218.411, 116.442 220.989 Q 116.442 223.598, 115.153 225.084 Q 113.864 226.555, 111.513 226.555 Q 109.148 226.555, 107.859 225.084 Q 106.585 223.613, 106.585 220.989 M 111.513 225.342 Q 113.151 225.342, 114.031 224.25 Q 114.925 223.143, 114.925 220.989 Q 114.925 218.882, 114.031 217.82 Q 113.151 216.743, 111.513 216.743 Q 109.875 216.743, 108.981 217.805 Q 108.101 218.866, 108.101 220.989 Q 108.101 223.158, 108.981 224.25 Q 109.875 225.342, 111.513 225.342 \" fill=\"#FF0000\"/>\n",
       "<path class=\"atom-14\" d=\"M 136.087 93.0166 Q 136.087 90.4386, 137.361 88.998 Q 138.634 87.5574, 141.015 87.5574 Q 143.396 87.5574, 144.67 88.998 Q 145.944 90.4386, 145.944 93.0166 Q 145.944 95.6249, 144.655 97.1111 Q 143.366 98.582, 141.015 98.582 Q 138.65 98.582, 137.361 97.1111 Q 136.087 95.6401, 136.087 93.0166 M 141.015 97.3689 Q 142.653 97.3689, 143.533 96.277 Q 144.427 95.17, 144.427 93.0166 Q 144.427 90.9087, 143.533 89.8472 Q 142.653 88.7705, 141.015 88.7705 Q 139.377 88.7705, 138.483 89.8321 Q 137.603 90.8936, 137.603 93.0166 Q 137.603 95.1852, 138.483 96.277 Q 139.377 97.3689, 141.015 97.3689 \" fill=\"#FF0000\"/>\n",
       "<path class=\"atom-16\" d=\"M 88.0484 48.2487 Q 88.0484 45.6707, 89.3222 44.23 Q 90.596 42.7894, 92.9769 42.7894 Q 95.3577 42.7894, 96.6315 44.23 Q 97.9054 45.6707, 97.9054 48.2487 Q 97.9054 50.857, 96.6164 52.3431 Q 95.3274 53.8141, 92.9769 53.8141 Q 90.6112 53.8141, 89.3222 52.3431 Q 88.0484 50.8722, 88.0484 48.2487 M 92.9769 52.6009 Q 94.6147 52.6009, 95.4942 51.5091 Q 96.3889 50.402, 96.3889 48.2487 Q 96.3889 46.1408, 95.4942 45.0793 Q 94.6147 44.0026, 92.9769 44.0026 Q 91.3391 44.0026, 90.4444 45.0641 Q 89.5648 46.1256, 89.5648 48.2487 Q 89.5648 50.4172, 90.4444 51.5091 Q 91.3391 52.6009, 92.9769 52.6009 \" fill=\"#FF0000\"/>\n",
       "<path class=\"atom-22\" d=\"M 13.6364 80.5371 Q 13.6364 77.9591, 14.9102 76.5185 Q 16.184 75.0778, 18.5649 75.0778 Q 20.9457 75.0778, 22.2195 76.5185 Q 23.4934 77.9591, 23.4934 80.5371 Q 23.4934 83.1454, 22.2044 84.6315 Q 20.9154 86.1025, 18.5649 86.1025 Q 16.1992 86.1025, 14.9102 84.6315 Q 13.6364 83.1606, 13.6364 80.5371 M 18.5649 84.8893 Q 20.2026 84.8893, 21.0822 83.7975 Q 21.9769 82.6905, 21.9769 80.5371 Q 21.9769 78.4292, 21.0822 77.3677 Q 20.2026 76.291, 18.5649 76.291 Q 16.9271 76.291, 16.0324 77.3525 Q 15.1528 78.414, 15.1528 80.5371 Q 15.1528 82.7056, 16.0324 83.7975 Q 16.9271 84.8893, 18.5649 84.8893 \" fill=\"#FF0000\"/>\n",
       "<path class=\"atom-23\" d=\"M 185.617 87.8248 L 187.072 87.8248 L 187.072 92.3894 L 192.562 92.3894 L 192.562 87.8248 L 194.018 87.8248 L 194.018 98.5614 L 192.562 98.5614 L 192.562 93.6026 L 187.072 93.6026 L 187.072 98.5614 L 185.617 98.5614 L 185.617 87.8248 \" fill=\"#000000\"/>\n",
       "<path class=\"atom-24\" d=\"M 276.471 156.243 L 277.927 156.243 L 277.927 160.808 L 283.416 160.808 L 283.416 156.243 L 284.872 156.243 L 284.872 166.98 L 283.416 166.98 L 283.416 162.021 L 277.927 162.021 L 277.927 166.98 L 276.471 166.98 L 276.471 156.243 \" fill=\"#000000\"/>\n",
       "</svg>"
      ],
      "text/plain": [
       "<IPython.core.display.SVG object>"
      ]
     },
     "metadata": {},
     "output_type": "display_data"
    }
   ],
   "source": [
    "molecule_visualization = rdMolDraw2D.MolDraw2DSVG(300,300)\n",
    "rdMolDraw2D.PrepareAndDrawMolecule(molecule_visualization, molecule, highlightAtoms=hit_atoms, highlightBonds=hit_bonds)\n",
    "molecule_visualization.FinishDrawing()\n",
    "display(SVG(molecule_visualization.GetDrawingText()))"
   ]
  },
  {
   "cell_type": "code",
   "execution_count": 11,
   "id": "fe5cdbda",
   "metadata": {
    "scrolled": true
   },
   "outputs": [],
   "source": [
    "def visualize_match(molecule, pattern):\n",
    "    hit_atoms = molecule.GetSubstructMatch(benzen)\n",
    "    hit_bonds = [molecule.GetBondBetweenAtoms(i, j).GetIdx()\n",
    "             for i, j in itertools.combinations(hit_atoms, 2)\n",
    "             if molecule.GetBondBetweenAtoms(i, j)]\n",
    "    molecule_visualization = rdMolDraw2D.MolDraw2DSVG(300,300)\n",
    "    rdMolDraw2D.PrepareAndDrawMolecule(molecule_visualization, molecule, highlightAtoms=hit_atoms, highlightBonds=hit_bonds)\n",
    "    molecule_visualization.FinishDrawing()\n",
    "    display(SVG(molecule_visualization.GetDrawingText()))"
   ]
  },
  {
   "cell_type": "code",
   "execution_count": 12,
   "id": "5476cc4f",
   "metadata": {
    "scrolled": true
   },
   "outputs": [
    {
     "data": {
      "text/plain": [
       "5"
      ]
     },
     "execution_count": 12,
     "metadata": {},
     "output_type": "execute_result"
    }
   ],
   "source": [
    "rdmolops.GetSSSR(molecule)"
   ]
  },
  {
   "cell_type": "code",
   "execution_count": 13,
   "id": "04a1bfa9",
   "metadata": {
    "scrolled": true
   },
   "outputs": [],
   "source": [
    "data = pd.read_csv(\"data/chembl_Vasopressin_V1a_receptor_KI.csv\", delimiter = \";\")"
   ]
  },
  {
   "cell_type": "code",
   "execution_count": 14,
   "id": "605aeb3c",
   "metadata": {
    "scrolled": true
   },
   "outputs": [],
   "source": [
    "smiles = data[\"Smiles\"]\n",
    "smiles.fillna(\"\", inplace = True)\n",
    "molecules = [Chem.MolFromSmiles(smile) for smile in smiles]\n",
    "data[\"molecule\"] = molecules"
   ]
  },
  {
   "cell_type": "markdown",
   "id": "cba32d21",
   "metadata": {},
   "source": [
    "## Benzen substructure search"
   ]
  },
  {
   "cell_type": "code",
   "execution_count": 15,
   "id": "c236e716",
   "metadata": {
    "scrolled": true
   },
   "outputs": [
    {
     "data": {
      "text/plain": [
       "1717"
      ]
     },
     "execution_count": 15,
     "metadata": {},
     "output_type": "execute_result"
    }
   ],
   "source": [
    "len([mol.HasSubstructMatch(benzen) for mol in data[\"molecule\"]])"
   ]
  },
  {
   "cell_type": "code",
   "execution_count": 16,
   "id": "8c741a1a",
   "metadata": {
    "scrolled": true
   },
   "outputs": [],
   "source": [
    "data[\"benzen_substructure\"] = [mol.HasSubstructMatch(benzen) for mol in data[\"molecule\"]]"
   ]
  },
  {
   "cell_type": "code",
   "execution_count": 17,
   "id": "b03efa82",
   "metadata": {
    "scrolled": false
   },
   "outputs": [],
   "source": [
    "# [visualize_match(mol, benzen) for mol in data[\"molecule\"] if mol.HasSubstructMatch(benzen)]"
   ]
  },
  {
   "cell_type": "markdown",
   "id": "302ab902",
   "metadata": {},
   "source": [
    "## Carboxyl group subsructure search"
   ]
  },
  {
   "cell_type": "code",
   "execution_count": 18,
   "id": "9f9bfda4",
   "metadata": {
    "scrolled": true
   },
   "outputs": [
    {
     "data": {
      "text/plain": [
       "0"
      ]
     },
     "execution_count": 18,
     "metadata": {},
     "output_type": "execute_result"
    }
   ],
   "source": [
    "carboxyl_group = Chem.MolFromSmiles(\"*C(=O)O\")\n",
    "sum([mol.HasSubstructMatch(carboxyl_group) for mol in data[\"molecule\"]])"
   ]
  },
  {
   "cell_type": "code",
   "execution_count": 19,
   "id": "5e58b68f",
   "metadata": {
    "scrolled": true
   },
   "outputs": [],
   "source": [
    "data[\"carboxyl_group_substructure\"] = [mol.HasSubstructMatch(carboxyl_group) for mol in data[\"molecule\"]]"
   ]
  },
  {
   "cell_type": "code",
   "execution_count": 20,
   "id": "e286a2cc",
   "metadata": {
    "scrolled": true
   },
   "outputs": [],
   "source": [
    "# [visualize_match(mol, carboxyl_group) for mol in data[\"molecule\"] if mol.HasSubstructMatch(carboxyl_group)]"
   ]
  },
  {
   "cell_type": "markdown",
   "id": "78d5bf1d",
   "metadata": {},
   "source": [
    "## Propan substructure search"
   ]
  },
  {
   "cell_type": "code",
   "execution_count": 21,
   "id": "ae05389a",
   "metadata": {
    "scrolled": true
   },
   "outputs": [
    {
     "data": {
      "text/plain": [
       "1382"
      ]
     },
     "execution_count": 21,
     "metadata": {},
     "output_type": "execute_result"
    }
   ],
   "source": [
    "propan = Chem.MolFromSmiles(\"CCC\")\n",
    "sum([mol.HasSubstructMatch(propan) for mol in data[\"molecule\"]])"
   ]
  },
  {
   "cell_type": "code",
   "execution_count": 22,
   "id": "d54c0553",
   "metadata": {
    "scrolled": true
   },
   "outputs": [],
   "source": [
    "data[\"propan_substructure\"] = [mol.HasSubstructMatch(propan) for mol in data[\"molecule\"]]"
   ]
  },
  {
   "cell_type": "code",
   "execution_count": 23,
   "id": "ae601a0e",
   "metadata": {
    "scrolled": false
   },
   "outputs": [],
   "source": [
    "# [visualize_match(mol, propan) for mol in data[\"molecule\"] if mol.HasSubstructMatch(propan)]"
   ]
  },
  {
   "cell_type": "markdown",
   "id": "1b2bf640",
   "metadata": {},
   "source": [
    "## Ring substructure search"
   ]
  },
  {
   "cell_type": "code",
   "execution_count": 24,
   "id": "0f41ba52",
   "metadata": {
    "scrolled": true
   },
   "outputs": [
    {
     "data": {
      "text/plain": [
       "1632"
      ]
     },
     "execution_count": 24,
     "metadata": {},
     "output_type": "execute_result"
    }
   ],
   "source": [
    "ring = Chem.MolFromSmarts(\"[R]\")\n",
    "sum([mol.HasSubstructMatch(ring) for mol in data[\"molecule\"]])"
   ]
  },
  {
   "cell_type": "code",
   "execution_count": 25,
   "id": "7f077739",
   "metadata": {
    "scrolled": true
   },
   "outputs": [],
   "source": [
    "data[\"ring_substructure\"] = [mol.HasSubstructMatch(ring) for mol in data[\"molecule\"]]"
   ]
  },
  {
   "cell_type": "code",
   "execution_count": 26,
   "id": "c4fb9ab2",
   "metadata": {
    "scrolled": false
   },
   "outputs": [],
   "source": [
    "# [visualize_match(mol, ring) for mol in data[\"molecule\"] if mol.HasSubstructMatch(ring)]"
   ]
  },
  {
   "cell_type": "code",
   "execution_count": 60,
   "id": "05e3fc20",
   "metadata": {
    "scrolled": true
   },
   "outputs": [],
   "source": [
    "data[[\"benzen_substructure\", \"propan_substructure\", \"carboxyl_group_substructure\", \"ring_substructure\"]] = data[[\"benzen_substructure\", \"propan_substructure\", \"carboxyl_group_substructure\", \"ring_substructure\"]].replace([False, True], [0, 1])"
   ]
  },
  {
   "cell_type": "markdown",
   "id": "ab729ff7",
   "metadata": {},
   "source": [
    "### Visualize substructure representation"
   ]
  },
  {
   "cell_type": "code",
   "execution_count": 63,
   "id": "bcab167d",
   "metadata": {
    "scrolled": true
   },
   "outputs": [
    {
     "data": {
      "text/plain": [
       "array([[<AxesSubplot:title={'center':'benzen_substructure'}>,\n",
       "        <AxesSubplot:title={'center':'propan_substructure'}>],\n",
       "       [<AxesSubplot:title={'center':'carboxyl_group_substructure'}>,\n",
       "        <AxesSubplot:title={'center':'ring_substructure'}>]], dtype=object)"
      ]
     },
     "execution_count": 63,
     "metadata": {},
     "output_type": "execute_result"
    },
    {
     "data": {
      "image/png": "[encoded data removed]",
      "text/plain": [
       "<Figure size 864x360 with 4 Axes>"
      ]
     },
     "metadata": {
      "needs_background": "light"
     },
     "output_type": "display_data"
    }
   ],
   "source": [
    "data[[\"benzen_substructure\", \"propan_substructure\", \"carboxyl_group_substructure\", \"ring_substructure\"]].hist(figsize=(12, 5))"
   ]
  },
  {
   "cell_type": "markdown",
   "id": "3ff50a45",
   "metadata": {},
   "source": [
    "## PAINS substructure search in ligand dataset"
   ]
  },
  {
   "cell_type": "code",
   "execution_count": 29,
   "id": "a50cbf5f",
   "metadata": {
    "scrolled": true
   },
   "outputs": [],
   "source": [
    "p_l15 = pd.read_csv(\"../data/pains/p_l15.txt\", delim_whitespace = True, header = None)"
   ]
  },
  {
   "cell_type": "code",
   "execution_count": 30,
   "id": "68f0a74f",
   "metadata": {},
   "outputs": [
    {
     "data": {
      "text/html": [
       "<div>\n",
       "<style scoped>\n",
       "    .dataframe tbody tr th:only-of-type {\n",
       "        vertical-align: middle;\n",
       "    }\n",
       "\n",
       "    .dataframe tbody tr th {\n",
       "        vertical-align: top;\n",
       "    }\n",
       "\n",
       "    .dataframe thead th {\n",
       "        text-align: right;\n",
       "    }\n",
       "</style>\n",
       "<table border=\"1\" class=\"dataframe\">\n",
       "  <thead>\n",
       "    <tr style=\"text-align: right;\">\n",
       "      <th></th>\n",
       "      <th>0</th>\n",
       "      <th>1</th>\n",
       "    </tr>\n",
       "  </thead>\n",
       "  <tbody>\n",
       "    <tr>\n",
       "      <th>0</th>\n",
       "      <td>c:1:c:c(:c:c:c:1-[#6;X4]-c:2:c:c:c(:c:c:2)-[#7...</td>\n",
       "      <td>&lt;regId=\"anil_di_alk_F(14)\"&gt;</td>\n",
       "    </tr>\n",
       "    <tr>\n",
       "      <th>1</th>\n",
       "      <td>c:1(:c(:c(:c(:c(:c:1-[#1])-[#1])-[#7](-[#1])-[...</td>\n",
       "      <td>&lt;regId=\"hzone_anil(14)\"&gt;</td>\n",
       "    </tr>\n",
       "    <tr>\n",
       "      <th>2</th>\n",
       "      <td>c1(nn(c(c1-[$([#1]),$([#6]-[#1])])-[#8]-[#1])-...</td>\n",
       "      <td>&lt;regId=\"het_5_pyrazole_OH(14)\"&gt;</td>\n",
       "    </tr>\n",
       "    <tr>\n",
       "      <th>3</th>\n",
       "      <td>c:2(:c:1-[#16]-c:3:c(-[#7](-c:1:c(:c(:c:2-[#1]...</td>\n",
       "      <td>&lt;regId=\"het_thio_666_A(13)\"&gt;</td>\n",
       "    </tr>\n",
       "    <tr>\n",
       "      <th>4</th>\n",
       "      <td>[#6]-2-[#6]-c:1:c(:c:c:c:c:1)-[#6](-c:3:c:c:c:...</td>\n",
       "      <td>&lt;regId=\"styrene_A(13)\"&gt;</td>\n",
       "    </tr>\n",
       "  </tbody>\n",
       "</table>\n",
       "</div>"
      ],
      "text/plain": [
       "                                                   0  \\\n",
       "0  c:1:c:c(:c:c:c:1-[#6;X4]-c:2:c:c:c(:c:c:2)-[#7...   \n",
       "1  c:1(:c(:c(:c(:c(:c:1-[#1])-[#1])-[#7](-[#1])-[...   \n",
       "2  c1(nn(c(c1-[$([#1]),$([#6]-[#1])])-[#8]-[#1])-...   \n",
       "3  c:2(:c:1-[#16]-c:3:c(-[#7](-c:1:c(:c(:c:2-[#1]...   \n",
       "4  [#6]-2-[#6]-c:1:c(:c:c:c:c:1)-[#6](-c:3:c:c:c:...   \n",
       "\n",
       "                                 1  \n",
       "0      <regId=\"anil_di_alk_F(14)\">  \n",
       "1         <regId=\"hzone_anil(14)\">  \n",
       "2  <regId=\"het_5_pyrazole_OH(14)\">  \n",
       "3     <regId=\"het_thio_666_A(13)\">  \n",
       "4          <regId=\"styrene_A(13)\">  "
      ]
     },
     "execution_count": 30,
     "metadata": {},
     "output_type": "execute_result"
    }
   ],
   "source": [
    "p_l15.head()"
   ]
  },
  {
   "cell_type": "code",
   "execution_count": 31,
   "id": "f25c1534",
   "metadata": {},
   "outputs": [],
   "source": [
    "p_m150 = pd.read_csv(\"../data/pains/p_m150.txt\", delim_whitespace = True, header = None)"
   ]
  },
  {
   "cell_type": "code",
   "execution_count": 32,
   "id": "cb2a212e",
   "metadata": {},
   "outputs": [
    {
     "data": {
      "text/html": [
       "<div>\n",
       "<style scoped>\n",
       "    .dataframe tbody tr th:only-of-type {\n",
       "        vertical-align: middle;\n",
       "    }\n",
       "\n",
       "    .dataframe tbody tr th {\n",
       "        vertical-align: top;\n",
       "    }\n",
       "\n",
       "    .dataframe thead th {\n",
       "        text-align: right;\n",
       "    }\n",
       "</style>\n",
       "<table border=\"1\" class=\"dataframe\">\n",
       "  <thead>\n",
       "    <tr style=\"text-align: right;\">\n",
       "      <th></th>\n",
       "      <th>0</th>\n",
       "      <th>1</th>\n",
       "    </tr>\n",
       "  </thead>\n",
       "  <tbody>\n",
       "    <tr>\n",
       "      <th>0</th>\n",
       "      <td>[#6]-1(-[#6](~[!#6&amp;!#1]~[#6]-[!#6&amp;!#1]-[#6]-1=...</td>\n",
       "      <td>&lt;regId=\"ene_six_het_A(483)\"&gt;</td>\n",
       "    </tr>\n",
       "    <tr>\n",
       "      <th>1</th>\n",
       "      <td>c:1:c:c(:c(:c:c:1)-[#6]=[#7]-[#7])-[#8]-[#1]</td>\n",
       "      <td>&lt;regId=\"hzone_phenol_A(479)\"&gt;</td>\n",
       "    </tr>\n",
       "    <tr>\n",
       "      <th>2</th>\n",
       "      <td>[#6](-[#1])(-[#1])-[#7](-[#6](-[#1])-[#1])-c:1...</td>\n",
       "      <td>&lt;regId=\"anil_di_alk_A(478)\"&gt;</td>\n",
       "    </tr>\n",
       "    <tr>\n",
       "      <th>3</th>\n",
       "      <td>n:1(c(c(c:2:c:1:c:c:c:c:2-[#1])-[#6;X4]-[#1])-...</td>\n",
       "      <td>&lt;regId=\"indol_3yl_alk(461)\"&gt;</td>\n",
       "    </tr>\n",
       "    <tr>\n",
       "      <th>4</th>\n",
       "      <td>[!#6&amp;!#1]=[#6]-1-[#6]=,:[#6]-[#6](=[!#6&amp;!#1])-...</td>\n",
       "      <td>&lt;regId=\"quinone_A(370)\"&gt;</td>\n",
       "    </tr>\n",
       "  </tbody>\n",
       "</table>\n",
       "</div>"
      ],
      "text/plain": [
       "                                                   0  \\\n",
       "0  [#6]-1(-[#6](~[!#6&!#1]~[#6]-[!#6&!#1]-[#6]-1=...   \n",
       "1       c:1:c:c(:c(:c:c:1)-[#6]=[#7]-[#7])-[#8]-[#1]   \n",
       "2  [#6](-[#1])(-[#1])-[#7](-[#6](-[#1])-[#1])-c:1...   \n",
       "3  n:1(c(c(c:2:c:1:c:c:c:c:2-[#1])-[#6;X4]-[#1])-...   \n",
       "4  [!#6&!#1]=[#6]-1-[#6]=,:[#6]-[#6](=[!#6&!#1])-...   \n",
       "\n",
       "                               1  \n",
       "0   <regId=\"ene_six_het_A(483)\">  \n",
       "1  <regId=\"hzone_phenol_A(479)\">  \n",
       "2   <regId=\"anil_di_alk_A(478)\">  \n",
       "3   <regId=\"indol_3yl_alk(461)\">  \n",
       "4       <regId=\"quinone_A(370)\">  "
      ]
     },
     "execution_count": 32,
     "metadata": {},
     "output_type": "execute_result"
    }
   ],
   "source": [
    "p_m150.head()"
   ]
  },
  {
   "cell_type": "code",
   "execution_count": 33,
   "id": "283788f4",
   "metadata": {},
   "outputs": [],
   "source": [
    "pains = pd.concat([p_l15, p_m150])"
   ]
  },
  {
   "cell_type": "code",
   "execution_count": 34,
   "id": "8c606272",
   "metadata": {},
   "outputs": [],
   "source": [
    "pains[\"molecule\"] = [Chem.MolFromSmarts(pain_smarts) for pain_smarts in pains.iloc[:, 0]]"
   ]
  },
  {
   "cell_type": "code",
   "execution_count": 50,
   "id": "170d8a5e",
   "metadata": {},
   "outputs": [],
   "source": [
    "for index, molecule in enumerate(data[\"molecule\"]):\n",
    "    data.loc[index, \"pains\"] = sum([molecule.HasSubstructMatch(pain) for pain in pains[\"molecule\"]])"
   ]
  },
  {
   "cell_type": "code",
   "execution_count": 52,
   "id": "9ff8fc11",
   "metadata": {},
   "outputs": [
    {
     "data": {
      "text/plain": [
       "69"
      ]
     },
     "execution_count": 52,
     "metadata": {},
     "output_type": "execute_result"
    }
   ],
   "source": [
    "data[\"pains\"].sum()"
   ]
  },
  {
   "cell_type": "code",
   "execution_count": 53,
   "id": "c820792d",
   "metadata": {},
   "outputs": [
    {
     "data": {
      "text/plain": [
       "1"
      ]
     },
     "execution_count": 53,
     "metadata": {},
     "output_type": "execute_result"
    }
   ],
   "source": [
    "data[\"pains\"].max()"
   ]
  },
  {
   "cell_type": "markdown",
   "id": "9f205c8b",
   "metadata": {},
   "source": [
    "Therea are 69 different ligands containing one PAINS substructure."
   ]
  }
 ],
 "metadata": {
  "kernelspec": {
   "display_name": "Python 3 (ipykernel)",
   "language": "python",
   "name": "python3"
  },
  "language_info": {
   "codemirror_mode": {
    "name": "ipython",
    "version": 3
   },
   "file_extension": ".py",
   "mimetype": "text/x-python",
   "name": "python",
   "nbconvert_exporter": "python",
   "pygments_lexer": "ipython3",
   "version": "3.9.10"
  }
 },
 "nbformat": 4,
 "nbformat_minor": 5
}
