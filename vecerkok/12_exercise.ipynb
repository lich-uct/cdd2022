{
 "cells": [
  {
   "cell_type": "markdown",
   "id": "a2b2278b",
   "metadata": {},
   "source": [
    "# Modelling"
   ]
  },
  {
   "cell_type": "code",
   "execution_count": 1,
   "id": "21584db2",
   "metadata": {},
   "outputs": [],
   "source": [
    "import pandas as pd\n",
    "from rdkit.Chem import AllChem as Chem"
   ]
  },
  {
   "cell_type": "code",
   "execution_count": 2,
   "id": "73419612",
   "metadata": {},
   "outputs": [],
   "source": [
    "# upload the vasopressin dataset\n",
    "data = pd.read_csv(\"data/chembl_Vasopressin_V1a_receptor_KI.csv\", delimiter = \";\")\n",
    "\n",
    "smiles = data[\"Smiles\"]\n",
    "smiles.fillna(\"\", inplace = True)\n",
    "molecules = [Chem.MolFromSmiles(smile) for smile in smiles]\n",
    "data[\"molecule\"] = molecules\n",
    "\n",
    "# add Morgan fingerprints to the dataframe\n",
    "data[\"morgan_fingerprint\"] = data[\"molecule\"].apply(Chem.GetMorganFingerprintAsBitVect, args = (2, ), nBits = 1024)"
   ]
  },
  {
   "cell_type": "code",
   "execution_count": null,
   "id": "2fc585b1",
   "metadata": {},
   "outputs": [],
   "source": []
  }
 ],
 "metadata": {
  "kernelspec": {
   "display_name": "Python 3 (ipykernel)",
   "language": "python",
   "name": "python3"
  },
  "language_info": {
   "codemirror_mode": {
    "name": "ipython",
    "version": 3
   },
   "file_extension": ".py",
   "mimetype": "text/x-python",
   "name": "python",
   "nbconvert_exporter": "python",
   "pygments_lexer": "ipython3",
   "version": "3.7.11"
  }
 },
 "nbformat": 4,
 "nbformat_minor": 5
}
